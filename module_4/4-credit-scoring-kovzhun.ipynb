{
 "cells": [
  {
   "cell_type": "markdown",
   "metadata": {},
   "source": [
    "# **Импорт библиотек**"
   ]
  },
  {
   "cell_type": "code",
   "execution_count": 75,
   "metadata": {
    "execution": {
     "iopub.execute_input": "2021-07-07T11:45:59.646468Z",
     "iopub.status.busy": "2021-07-07T11:45:59.646036Z",
     "iopub.status.idle": "2021-07-07T11:46:01.035011Z",
     "shell.execute_reply": "2021-07-07T11:46:01.033689Z",
     "shell.execute_reply.started": "2021-07-07T11:45:59.646432Z"
    }
   },
   "outputs": [],
   "source": [
    "from pandas import Series\n",
    "import pandas as pd\n",
    "import numpy as np\n",
    "\n",
    "import matplotlib.pyplot as plt\n",
    "import seaborn as sns\n",
    "\n",
    "from sklearn.feature_selection import f_classif, mutual_info_classif\n",
    "from sklearn.preprocessing import LabelEncoder, OneHotEncoder, StandardScaler\n",
    "\n",
    "from sklearn.model_selection import train_test_split\n",
    "from sklearn.metrics import accuracy_score, precision_score, recall_score, f1_score\n",
    "from sklearn.linear_model import LogisticRegression\n",
    "\n",
    "from sklearn.metrics import confusion_matrix\n",
    "from sklearn.metrics import auc, roc_auc_score, roc_curve"
   ]
  },
  {
   "cell_type": "code",
   "execution_count": 76,
   "metadata": {
    "execution": {
     "iopub.execute_input": "2021-07-07T11:46:01.039007Z",
     "iopub.status.busy": "2021-07-07T11:46:01.038444Z",
     "iopub.status.idle": "2021-07-07T11:46:01.048017Z",
     "shell.execute_reply": "2021-07-07T11:46:01.046675Z",
     "shell.execute_reply.started": "2021-07-07T11:46:01.038955Z"
    }
   },
   "outputs": [],
   "source": [
    "import os\n",
    "for dirname, _, filenames in os.walk('/kaggle/input'):\n",
    "    for filename in filenames:\n",
    "        print(os.path.join(dirname, filename))"
   ]
  },
  {
   "cell_type": "code",
   "execution_count": 77,
   "metadata": {
    "execution": {
     "iopub.execute_input": "2021-07-07T11:46:01.050593Z",
     "iopub.status.busy": "2021-07-07T11:46:01.050019Z",
     "iopub.status.idle": "2021-07-07T11:46:03.996871Z",
     "shell.execute_reply": "2021-07-07T11:46:03.995413Z",
     "shell.execute_reply.started": "2021-07-07T11:46:01.050541Z"
    }
   },
   "outputs": [],
   "source": [
    "!pip freeze > requirements.txt"
   ]
  },
  {
   "cell_type": "markdown",
   "metadata": {},
   "source": [
    "# **Читаем данные**"
   ]
  },
  {
   "cell_type": "code",
   "execution_count": 78,
   "metadata": {
    "execution": {
     "iopub.execute_input": "2021-07-07T11:46:03.998779Z",
     "iopub.status.busy": "2021-07-07T11:46:03.998412Z",
     "iopub.status.idle": "2021-07-07T11:46:04.374015Z",
     "shell.execute_reply": "2021-07-07T11:46:04.372711Z",
     "shell.execute_reply.started": "2021-07-07T11:46:03.998740Z"
    }
   },
   "outputs": [],
   "source": [
    "DATA_DIR = '/kaggle/input/sf-dst-scoring/'\n",
    "train = pd.read_csv('train.csv')\n",
    "test = pd.read_csv('test.csv')\n",
    "sample_submission = pd.read_csv('sample_submission.csv')"
   ]
  },
  {
   "cell_type": "code",
   "execution_count": 79,
   "metadata": {
    "execution": {
     "iopub.execute_input": "2021-07-07T11:46:04.378607Z",
     "iopub.status.busy": "2021-07-07T11:46:04.378215Z",
     "iopub.status.idle": "2021-07-07T11:46:04.384165Z",
     "shell.execute_reply": "2021-07-07T11:46:04.382919Z",
     "shell.execute_reply.started": "2021-07-07T11:46:04.378568Z"
    }
   },
   "outputs": [
    {
     "name": "stdout",
     "output_type": "stream",
     "text": [
      "Размерность тренировочного датасета:  (73799, 19)\n"
     ]
    },
    {
     "data": {
      "text/html": [
       "<div>\n",
       "<style scoped>\n",
       "    .dataframe tbody tr th:only-of-type {\n",
       "        vertical-align: middle;\n",
       "    }\n",
       "\n",
       "    .dataframe tbody tr th {\n",
       "        vertical-align: top;\n",
       "    }\n",
       "\n",
       "    .dataframe thead th {\n",
       "        text-align: right;\n",
       "    }\n",
       "</style>\n",
       "<table border=\"1\" class=\"dataframe\">\n",
       "  <thead>\n",
       "    <tr style=\"text-align: right;\">\n",
       "      <th></th>\n",
       "      <th>client_id</th>\n",
       "      <th>app_date</th>\n",
       "      <th>education</th>\n",
       "      <th>sex</th>\n",
       "      <th>age</th>\n",
       "      <th>car</th>\n",
       "      <th>car_type</th>\n",
       "      <th>decline_app_cnt</th>\n",
       "      <th>good_work</th>\n",
       "      <th>score_bki</th>\n",
       "      <th>bki_request_cnt</th>\n",
       "      <th>region_rating</th>\n",
       "      <th>home_address</th>\n",
       "      <th>work_address</th>\n",
       "      <th>income</th>\n",
       "      <th>sna</th>\n",
       "      <th>first_time</th>\n",
       "      <th>foreign_passport</th>\n",
       "      <th>default</th>\n",
       "    </tr>\n",
       "  </thead>\n",
       "  <tbody>\n",
       "    <tr>\n",
       "      <th>0</th>\n",
       "      <td>25905</td>\n",
       "      <td>01FEB2014</td>\n",
       "      <td>SCH</td>\n",
       "      <td>M</td>\n",
       "      <td>62</td>\n",
       "      <td>Y</td>\n",
       "      <td>Y</td>\n",
       "      <td>0</td>\n",
       "      <td>0</td>\n",
       "      <td>-2.008753</td>\n",
       "      <td>1</td>\n",
       "      <td>50</td>\n",
       "      <td>1</td>\n",
       "      <td>2</td>\n",
       "      <td>18000</td>\n",
       "      <td>4</td>\n",
       "      <td>1</td>\n",
       "      <td>N</td>\n",
       "      <td>0</td>\n",
       "    </tr>\n",
       "    <tr>\n",
       "      <th>1</th>\n",
       "      <td>63161</td>\n",
       "      <td>12MAR2014</td>\n",
       "      <td>SCH</td>\n",
       "      <td>F</td>\n",
       "      <td>59</td>\n",
       "      <td>N</td>\n",
       "      <td>N</td>\n",
       "      <td>0</td>\n",
       "      <td>0</td>\n",
       "      <td>-1.532276</td>\n",
       "      <td>3</td>\n",
       "      <td>50</td>\n",
       "      <td>2</td>\n",
       "      <td>3</td>\n",
       "      <td>19000</td>\n",
       "      <td>4</td>\n",
       "      <td>1</td>\n",
       "      <td>N</td>\n",
       "      <td>0</td>\n",
       "    </tr>\n",
       "    <tr>\n",
       "      <th>2</th>\n",
       "      <td>25887</td>\n",
       "      <td>01FEB2014</td>\n",
       "      <td>SCH</td>\n",
       "      <td>M</td>\n",
       "      <td>25</td>\n",
       "      <td>Y</td>\n",
       "      <td>N</td>\n",
       "      <td>2</td>\n",
       "      <td>0</td>\n",
       "      <td>-1.408142</td>\n",
       "      <td>1</td>\n",
       "      <td>80</td>\n",
       "      <td>1</td>\n",
       "      <td>2</td>\n",
       "      <td>30000</td>\n",
       "      <td>1</td>\n",
       "      <td>4</td>\n",
       "      <td>Y</td>\n",
       "      <td>0</td>\n",
       "    </tr>\n",
       "  </tbody>\n",
       "</table>\n",
       "</div>"
      ],
      "text/plain": [
       "   client_id   app_date education sex  age car car_type  decline_app_cnt  \\\n",
       "0      25905  01FEB2014       SCH   M   62   Y        Y                0   \n",
       "1      63161  12MAR2014       SCH   F   59   N        N                0   \n",
       "2      25887  01FEB2014       SCH   M   25   Y        N                2   \n",
       "\n",
       "   good_work  score_bki  bki_request_cnt  region_rating  home_address  \\\n",
       "0          0  -2.008753                1             50             1   \n",
       "1          0  -1.532276                3             50             2   \n",
       "2          0  -1.408142                1             80             1   \n",
       "\n",
       "   work_address  income  sna  first_time foreign_passport  default  \n",
       "0             2   18000    4           1                N        0  \n",
       "1             3   19000    4           1                N        0  \n",
       "2             2   30000    1           4                Y        0  "
      ]
     },
     "metadata": {},
     "output_type": "display_data"
    },
    {
     "name": "stdout",
     "output_type": "stream",
     "text": [
      "Размерность тестового датасета:  (36349, 18)\n"
     ]
    },
    {
     "data": {
      "text/html": [
       "<div>\n",
       "<style scoped>\n",
       "    .dataframe tbody tr th:only-of-type {\n",
       "        vertical-align: middle;\n",
       "    }\n",
       "\n",
       "    .dataframe tbody tr th {\n",
       "        vertical-align: top;\n",
       "    }\n",
       "\n",
       "    .dataframe thead th {\n",
       "        text-align: right;\n",
       "    }\n",
       "</style>\n",
       "<table border=\"1\" class=\"dataframe\">\n",
       "  <thead>\n",
       "    <tr style=\"text-align: right;\">\n",
       "      <th></th>\n",
       "      <th>client_id</th>\n",
       "      <th>app_date</th>\n",
       "      <th>education</th>\n",
       "      <th>sex</th>\n",
       "      <th>age</th>\n",
       "      <th>car</th>\n",
       "      <th>car_type</th>\n",
       "      <th>decline_app_cnt</th>\n",
       "      <th>good_work</th>\n",
       "      <th>score_bki</th>\n",
       "      <th>bki_request_cnt</th>\n",
       "      <th>region_rating</th>\n",
       "      <th>home_address</th>\n",
       "      <th>work_address</th>\n",
       "      <th>income</th>\n",
       "      <th>sna</th>\n",
       "      <th>first_time</th>\n",
       "      <th>foreign_passport</th>\n",
       "    </tr>\n",
       "  </thead>\n",
       "  <tbody>\n",
       "    <tr>\n",
       "      <th>0</th>\n",
       "      <td>74835</td>\n",
       "      <td>22MAR2014</td>\n",
       "      <td>GRD</td>\n",
       "      <td>M</td>\n",
       "      <td>29</td>\n",
       "      <td>Y</td>\n",
       "      <td>Y</td>\n",
       "      <td>0</td>\n",
       "      <td>0</td>\n",
       "      <td>-2.271884</td>\n",
       "      <td>3</td>\n",
       "      <td>50</td>\n",
       "      <td>1</td>\n",
       "      <td>2</td>\n",
       "      <td>50000</td>\n",
       "      <td>1</td>\n",
       "      <td>4</td>\n",
       "      <td>N</td>\n",
       "    </tr>\n",
       "    <tr>\n",
       "      <th>1</th>\n",
       "      <td>17527</td>\n",
       "      <td>24JAN2014</td>\n",
       "      <td>SCH</td>\n",
       "      <td>F</td>\n",
       "      <td>39</td>\n",
       "      <td>N</td>\n",
       "      <td>N</td>\n",
       "      <td>5</td>\n",
       "      <td>0</td>\n",
       "      <td>-1.504999</td>\n",
       "      <td>2</td>\n",
       "      <td>50</td>\n",
       "      <td>1</td>\n",
       "      <td>2</td>\n",
       "      <td>5000</td>\n",
       "      <td>4</td>\n",
       "      <td>3</td>\n",
       "      <td>N</td>\n",
       "    </tr>\n",
       "    <tr>\n",
       "      <th>2</th>\n",
       "      <td>75683</td>\n",
       "      <td>23MAR2014</td>\n",
       "      <td>UGR</td>\n",
       "      <td>M</td>\n",
       "      <td>50</td>\n",
       "      <td>Y</td>\n",
       "      <td>Y</td>\n",
       "      <td>0</td>\n",
       "      <td>0</td>\n",
       "      <td>-1.691339</td>\n",
       "      <td>1</td>\n",
       "      <td>50</td>\n",
       "      <td>1</td>\n",
       "      <td>2</td>\n",
       "      <td>30000</td>\n",
       "      <td>1</td>\n",
       "      <td>3</td>\n",
       "      <td>Y</td>\n",
       "    </tr>\n",
       "  </tbody>\n",
       "</table>\n",
       "</div>"
      ],
      "text/plain": [
       "   client_id   app_date education sex  age car car_type  decline_app_cnt  \\\n",
       "0      74835  22MAR2014       GRD   M   29   Y        Y                0   \n",
       "1      17527  24JAN2014       SCH   F   39   N        N                5   \n",
       "2      75683  23MAR2014       UGR   M   50   Y        Y                0   \n",
       "\n",
       "   good_work  score_bki  bki_request_cnt  region_rating  home_address  \\\n",
       "0          0  -2.271884                3             50             1   \n",
       "1          0  -1.504999                2             50             1   \n",
       "2          0  -1.691339                1             50             1   \n",
       "\n",
       "   work_address  income  sna  first_time foreign_passport  \n",
       "0             2   50000    1           4                N  \n",
       "1             2    5000    4           3                N  \n",
       "2             2   30000    1           3                Y  "
      ]
     },
     "metadata": {},
     "output_type": "display_data"
    }
   ],
   "source": [
    "pd.set_option('display.max_columns', None)\n",
    "print('Размерность тренировочного датасета: ', train.shape)\n",
    "display(train.head(3))\n",
    "print('Размерность тестового датасета: ', test.shape)\n",
    "display(test.head(3))"
   ]
  },
  {
   "cell_type": "markdown",
   "metadata": {
    "execution": {
     "iopub.execute_input": "2021-07-07T11:46:04.387876Z",
     "iopub.status.busy": "2021-07-07T11:46:04.387498Z",
     "iopub.status.idle": "2021-07-07T11:46:04.474157Z",
     "shell.execute_reply": "2021-07-07T11:46:04.473180Z",
     "shell.execute_reply.started": "2021-07-07T11:46:04.387838Z"
    }
   },
   "source": [
    "## Описания полей"
   ]
  },
  {
   "cell_type": "markdown",
   "metadata": {
    "execution": {
     "iopub.execute_input": "2021-07-07T11:46:04.476091Z",
     "iopub.status.busy": "2021-07-07T11:46:04.475751Z",
     "iopub.status.idle": "2021-07-07T11:46:04.485899Z",
     "shell.execute_reply": "2021-07-07T11:46:04.484308Z",
     "shell.execute_reply.started": "2021-07-07T11:46:04.476055Z"
    }
   },
   "source": [
    "* client_id - идентификатор клиента\n",
    "* education - уровень образования\n",
    "* sex - пол заемщика\n",
    "* age - возраст заемщика\n",
    "* car - флаг наличия автомобиля\n",
    "* car_type - флаг автомобиля иномарки\n",
    "* decline_app_cnt - количество отказанных прошлых заявок\n",
    "* good_work - флаг наличия “хорошей” работы\n",
    "* bki_request_cnt - количество запросов в БКИ\n",
    "* home_address - категоризатор домашнего адреса\n",
    "* work_address - категоризатор рабочего адреса\n",
    "* income - доход заемщика\n",
    "* foreign_passport - наличие загранпаспорта\n",
    "* sna - связь заемщика с клиентами банка\n",
    "* first_time - давность наличия информации о заемщике\n",
    "* score_bki - скоринговый балл по данным из БКИ\n",
    "* region_rating - рейтинг региона\n",
    "* app_date - дата подачи заявки\n",
    "* default - флаг дефолта по кредиту"
   ]
  },
  {
   "cell_type": "code",
   "execution_count": 80,
   "metadata": {
    "execution": {
     "iopub.execute_input": "2021-07-07T11:46:04.487784Z",
     "iopub.status.busy": "2021-07-07T11:46:04.487421Z",
     "iopub.status.idle": "2021-07-07T11:46:04.531907Z",
     "shell.execute_reply": "2021-07-07T11:46:04.530856Z",
     "shell.execute_reply.started": "2021-07-07T11:46:04.487746Z"
    }
   },
   "outputs": [
    {
     "name": "stdout",
     "output_type": "stream",
     "text": [
      "<class 'pandas.core.frame.DataFrame'>\n",
      "RangeIndex: 36349 entries, 0 to 36348\n",
      "Data columns (total 18 columns):\n",
      " #   Column            Non-Null Count  Dtype  \n",
      "---  ------            --------------  -----  \n",
      " 0   client_id         36349 non-null  int64  \n",
      " 1   app_date          36349 non-null  object \n",
      " 2   education         36178 non-null  object \n",
      " 3   sex               36349 non-null  object \n",
      " 4   age               36349 non-null  int64  \n",
      " 5   car               36349 non-null  object \n",
      " 6   car_type          36349 non-null  object \n",
      " 7   decline_app_cnt   36349 non-null  int64  \n",
      " 8   good_work         36349 non-null  int64  \n",
      " 9   score_bki         36349 non-null  float64\n",
      " 10  bki_request_cnt   36349 non-null  int64  \n",
      " 11  region_rating     36349 non-null  int64  \n",
      " 12  home_address      36349 non-null  int64  \n",
      " 13  work_address      36349 non-null  int64  \n",
      " 14  income            36349 non-null  int64  \n",
      " 15  sna               36349 non-null  int64  \n",
      " 16  first_time        36349 non-null  int64  \n",
      " 17  foreign_passport  36349 non-null  object \n",
      "dtypes: float64(1), int64(11), object(6)\n",
      "memory usage: 5.0+ MB\n"
     ]
    },
    {
     "data": {
      "text/plain": [
       "None"
      ]
     },
     "metadata": {},
     "output_type": "display_data"
    }
   ],
   "source": [
    "# Информация о датасете \n",
    "display(test.info())"
   ]
  },
  {
   "cell_type": "markdown",
   "metadata": {},
   "source": [
    "В датасете test нет признака \"default\". Мы должны предсказать значение указанного признака, \n",
    "предварительно заполним его нулями.\n",
    "Для корректной обработки признаков объединим датасеты train и test, \n",
    "предварительно в новой переменной \"train\" указав, какие записи относятся к датасету train."
   ]
  },
  {
   "cell_type": "code",
   "execution_count": 81,
   "metadata": {
    "execution": {
     "iopub.execute_input": "2021-07-07T11:46:04.533922Z",
     "iopub.status.busy": "2021-07-07T11:46:04.533552Z",
     "iopub.status.idle": "2021-07-07T11:46:04.607245Z",
     "shell.execute_reply": "2021-07-07T11:46:04.606163Z",
     "shell.execute_reply.started": "2021-07-07T11:46:04.533888Z"
    }
   },
   "outputs": [],
   "source": [
    "test['default'] = 0 # заполняем признак нулями\n",
    "test['train'] = 0 # указываем, что записи не принадлежат датасету train\n",
    "train['train'] = 1 # указываем, что записи принадлежат датасету train\n",
    "data = pd.concat([train, test], ignore_index=True) # объединяем датасеты в один\n"
   ]
  },
  {
   "cell_type": "markdown",
   "metadata": {},
   "source": [
    "# **Предварительный анализ данных**"
   ]
  },
  {
   "cell_type": "code",
   "execution_count": 82,
   "metadata": {
    "execution": {
     "iopub.execute_input": "2021-07-07T11:46:04.609635Z",
     "iopub.status.busy": "2021-07-07T11:46:04.609152Z",
     "iopub.status.idle": "2021-07-07T11:46:04.654205Z",
     "shell.execute_reply": "2021-07-07T11:46:04.652553Z",
     "shell.execute_reply.started": "2021-07-07T11:46:04.609587Z"
    }
   },
   "outputs": [
    {
     "data": {
      "text/html": [
       "<div>\n",
       "<style scoped>\n",
       "    .dataframe tbody tr th:only-of-type {\n",
       "        vertical-align: middle;\n",
       "    }\n",
       "\n",
       "    .dataframe tbody tr th {\n",
       "        vertical-align: top;\n",
       "    }\n",
       "\n",
       "    .dataframe thead th {\n",
       "        text-align: right;\n",
       "    }\n",
       "</style>\n",
       "<table border=\"1\" class=\"dataframe\">\n",
       "  <thead>\n",
       "    <tr style=\"text-align: right;\">\n",
       "      <th></th>\n",
       "      <th>client_id</th>\n",
       "      <th>app_date</th>\n",
       "      <th>education</th>\n",
       "      <th>sex</th>\n",
       "      <th>age</th>\n",
       "      <th>car</th>\n",
       "      <th>car_type</th>\n",
       "      <th>decline_app_cnt</th>\n",
       "      <th>good_work</th>\n",
       "      <th>score_bki</th>\n",
       "      <th>bki_request_cnt</th>\n",
       "      <th>region_rating</th>\n",
       "      <th>home_address</th>\n",
       "      <th>work_address</th>\n",
       "      <th>income</th>\n",
       "      <th>sna</th>\n",
       "      <th>first_time</th>\n",
       "      <th>foreign_passport</th>\n",
       "      <th>default</th>\n",
       "      <th>train</th>\n",
       "    </tr>\n",
       "  </thead>\n",
       "  <tbody>\n",
       "    <tr>\n",
       "      <th>0</th>\n",
       "      <td>25905</td>\n",
       "      <td>01FEB2014</td>\n",
       "      <td>SCH</td>\n",
       "      <td>M</td>\n",
       "      <td>62</td>\n",
       "      <td>Y</td>\n",
       "      <td>Y</td>\n",
       "      <td>0</td>\n",
       "      <td>0</td>\n",
       "      <td>-2.008753</td>\n",
       "      <td>1</td>\n",
       "      <td>50</td>\n",
       "      <td>1</td>\n",
       "      <td>2</td>\n",
       "      <td>18000</td>\n",
       "      <td>4</td>\n",
       "      <td>1</td>\n",
       "      <td>N</td>\n",
       "      <td>0</td>\n",
       "      <td>1</td>\n",
       "    </tr>\n",
       "    <tr>\n",
       "      <th>1</th>\n",
       "      <td>63161</td>\n",
       "      <td>12MAR2014</td>\n",
       "      <td>SCH</td>\n",
       "      <td>F</td>\n",
       "      <td>59</td>\n",
       "      <td>N</td>\n",
       "      <td>N</td>\n",
       "      <td>0</td>\n",
       "      <td>0</td>\n",
       "      <td>-1.532276</td>\n",
       "      <td>3</td>\n",
       "      <td>50</td>\n",
       "      <td>2</td>\n",
       "      <td>3</td>\n",
       "      <td>19000</td>\n",
       "      <td>4</td>\n",
       "      <td>1</td>\n",
       "      <td>N</td>\n",
       "      <td>0</td>\n",
       "      <td>1</td>\n",
       "    </tr>\n",
       "    <tr>\n",
       "      <th>2</th>\n",
       "      <td>25887</td>\n",
       "      <td>01FEB2014</td>\n",
       "      <td>SCH</td>\n",
       "      <td>M</td>\n",
       "      <td>25</td>\n",
       "      <td>Y</td>\n",
       "      <td>N</td>\n",
       "      <td>2</td>\n",
       "      <td>0</td>\n",
       "      <td>-1.408142</td>\n",
       "      <td>1</td>\n",
       "      <td>80</td>\n",
       "      <td>1</td>\n",
       "      <td>2</td>\n",
       "      <td>30000</td>\n",
       "      <td>1</td>\n",
       "      <td>4</td>\n",
       "      <td>Y</td>\n",
       "      <td>0</td>\n",
       "      <td>1</td>\n",
       "    </tr>\n",
       "    <tr>\n",
       "      <th>3</th>\n",
       "      <td>16222</td>\n",
       "      <td>23JAN2014</td>\n",
       "      <td>SCH</td>\n",
       "      <td>F</td>\n",
       "      <td>53</td>\n",
       "      <td>N</td>\n",
       "      <td>N</td>\n",
       "      <td>0</td>\n",
       "      <td>0</td>\n",
       "      <td>-2.057471</td>\n",
       "      <td>2</td>\n",
       "      <td>50</td>\n",
       "      <td>2</td>\n",
       "      <td>3</td>\n",
       "      <td>10000</td>\n",
       "      <td>1</td>\n",
       "      <td>3</td>\n",
       "      <td>N</td>\n",
       "      <td>0</td>\n",
       "      <td>1</td>\n",
       "    </tr>\n",
       "    <tr>\n",
       "      <th>4</th>\n",
       "      <td>101655</td>\n",
       "      <td>18APR2014</td>\n",
       "      <td>GRD</td>\n",
       "      <td>M</td>\n",
       "      <td>48</td>\n",
       "      <td>N</td>\n",
       "      <td>N</td>\n",
       "      <td>0</td>\n",
       "      <td>1</td>\n",
       "      <td>-1.244723</td>\n",
       "      <td>1</td>\n",
       "      <td>60</td>\n",
       "      <td>2</td>\n",
       "      <td>3</td>\n",
       "      <td>30000</td>\n",
       "      <td>1</td>\n",
       "      <td>4</td>\n",
       "      <td>Y</td>\n",
       "      <td>0</td>\n",
       "      <td>1</td>\n",
       "    </tr>\n",
       "    <tr>\n",
       "      <th>...</th>\n",
       "      <td>...</td>\n",
       "      <td>...</td>\n",
       "      <td>...</td>\n",
       "      <td>...</td>\n",
       "      <td>...</td>\n",
       "      <td>...</td>\n",
       "      <td>...</td>\n",
       "      <td>...</td>\n",
       "      <td>...</td>\n",
       "      <td>...</td>\n",
       "      <td>...</td>\n",
       "      <td>...</td>\n",
       "      <td>...</td>\n",
       "      <td>...</td>\n",
       "      <td>...</td>\n",
       "      <td>...</td>\n",
       "      <td>...</td>\n",
       "      <td>...</td>\n",
       "      <td>...</td>\n",
       "      <td>...</td>\n",
       "    </tr>\n",
       "    <tr>\n",
       "      <th>110143</th>\n",
       "      <td>83775</td>\n",
       "      <td>31MAR2014</td>\n",
       "      <td>SCH</td>\n",
       "      <td>F</td>\n",
       "      <td>37</td>\n",
       "      <td>N</td>\n",
       "      <td>N</td>\n",
       "      <td>1</td>\n",
       "      <td>0</td>\n",
       "      <td>-1.744976</td>\n",
       "      <td>3</td>\n",
       "      <td>50</td>\n",
       "      <td>2</td>\n",
       "      <td>3</td>\n",
       "      <td>15000</td>\n",
       "      <td>4</td>\n",
       "      <td>1</td>\n",
       "      <td>N</td>\n",
       "      <td>0</td>\n",
       "      <td>0</td>\n",
       "    </tr>\n",
       "    <tr>\n",
       "      <th>110144</th>\n",
       "      <td>106254</td>\n",
       "      <td>25APR2014</td>\n",
       "      <td>GRD</td>\n",
       "      <td>F</td>\n",
       "      <td>64</td>\n",
       "      <td>Y</td>\n",
       "      <td>Y</td>\n",
       "      <td>0</td>\n",
       "      <td>0</td>\n",
       "      <td>-2.293781</td>\n",
       "      <td>3</td>\n",
       "      <td>60</td>\n",
       "      <td>1</td>\n",
       "      <td>2</td>\n",
       "      <td>200000</td>\n",
       "      <td>1</td>\n",
       "      <td>4</td>\n",
       "      <td>N</td>\n",
       "      <td>0</td>\n",
       "      <td>0</td>\n",
       "    </tr>\n",
       "    <tr>\n",
       "      <th>110145</th>\n",
       "      <td>81852</td>\n",
       "      <td>30MAR2014</td>\n",
       "      <td>GRD</td>\n",
       "      <td>M</td>\n",
       "      <td>31</td>\n",
       "      <td>N</td>\n",
       "      <td>N</td>\n",
       "      <td>2</td>\n",
       "      <td>0</td>\n",
       "      <td>-0.940752</td>\n",
       "      <td>1</td>\n",
       "      <td>50</td>\n",
       "      <td>1</td>\n",
       "      <td>2</td>\n",
       "      <td>60000</td>\n",
       "      <td>4</td>\n",
       "      <td>2</td>\n",
       "      <td>N</td>\n",
       "      <td>0</td>\n",
       "      <td>0</td>\n",
       "    </tr>\n",
       "    <tr>\n",
       "      <th>110146</th>\n",
       "      <td>1971</td>\n",
       "      <td>07JAN2014</td>\n",
       "      <td>UGR</td>\n",
       "      <td>F</td>\n",
       "      <td>27</td>\n",
       "      <td>N</td>\n",
       "      <td>N</td>\n",
       "      <td>1</td>\n",
       "      <td>0</td>\n",
       "      <td>-1.242392</td>\n",
       "      <td>2</td>\n",
       "      <td>80</td>\n",
       "      <td>2</td>\n",
       "      <td>3</td>\n",
       "      <td>30000</td>\n",
       "      <td>1</td>\n",
       "      <td>1</td>\n",
       "      <td>N</td>\n",
       "      <td>0</td>\n",
       "      <td>0</td>\n",
       "    </tr>\n",
       "    <tr>\n",
       "      <th>110147</th>\n",
       "      <td>69044</td>\n",
       "      <td>17MAR2014</td>\n",
       "      <td>SCH</td>\n",
       "      <td>M</td>\n",
       "      <td>38</td>\n",
       "      <td>N</td>\n",
       "      <td>N</td>\n",
       "      <td>0</td>\n",
       "      <td>0</td>\n",
       "      <td>-1.507549</td>\n",
       "      <td>2</td>\n",
       "      <td>50</td>\n",
       "      <td>1</td>\n",
       "      <td>2</td>\n",
       "      <td>15000</td>\n",
       "      <td>4</td>\n",
       "      <td>2</td>\n",
       "      <td>N</td>\n",
       "      <td>0</td>\n",
       "      <td>0</td>\n",
       "    </tr>\n",
       "  </tbody>\n",
       "</table>\n",
       "<p>110148 rows × 20 columns</p>\n",
       "</div>"
      ],
      "text/plain": [
       "        client_id   app_date education sex  age car car_type  decline_app_cnt  \\\n",
       "0           25905  01FEB2014       SCH   M   62   Y        Y                0   \n",
       "1           63161  12MAR2014       SCH   F   59   N        N                0   \n",
       "2           25887  01FEB2014       SCH   M   25   Y        N                2   \n",
       "3           16222  23JAN2014       SCH   F   53   N        N                0   \n",
       "4          101655  18APR2014       GRD   M   48   N        N                0   \n",
       "...           ...        ...       ...  ..  ...  ..      ...              ...   \n",
       "110143      83775  31MAR2014       SCH   F   37   N        N                1   \n",
       "110144     106254  25APR2014       GRD   F   64   Y        Y                0   \n",
       "110145      81852  30MAR2014       GRD   M   31   N        N                2   \n",
       "110146       1971  07JAN2014       UGR   F   27   N        N                1   \n",
       "110147      69044  17MAR2014       SCH   M   38   N        N                0   \n",
       "\n",
       "        good_work  score_bki  bki_request_cnt  region_rating  home_address  \\\n",
       "0               0  -2.008753                1             50             1   \n",
       "1               0  -1.532276                3             50             2   \n",
       "2               0  -1.408142                1             80             1   \n",
       "3               0  -2.057471                2             50             2   \n",
       "4               1  -1.244723                1             60             2   \n",
       "...           ...        ...              ...            ...           ...   \n",
       "110143          0  -1.744976                3             50             2   \n",
       "110144          0  -2.293781                3             60             1   \n",
       "110145          0  -0.940752                1             50             1   \n",
       "110146          0  -1.242392                2             80             2   \n",
       "110147          0  -1.507549                2             50             1   \n",
       "\n",
       "        work_address  income  sna  first_time foreign_passport  default  train  \n",
       "0                  2   18000    4           1                N        0      1  \n",
       "1                  3   19000    4           1                N        0      1  \n",
       "2                  2   30000    1           4                Y        0      1  \n",
       "3                  3   10000    1           3                N        0      1  \n",
       "4                  3   30000    1           4                Y        0      1  \n",
       "...              ...     ...  ...         ...              ...      ...    ...  \n",
       "110143             3   15000    4           1                N        0      0  \n",
       "110144             2  200000    1           4                N        0      0  \n",
       "110145             2   60000    4           2                N        0      0  \n",
       "110146             3   30000    1           1                N        0      0  \n",
       "110147             2   15000    4           2                N        0      0  \n",
       "\n",
       "[110148 rows x 20 columns]"
      ]
     },
     "metadata": {},
     "output_type": "display_data"
    }
   ],
   "source": [
    "# смотрим на данные в датасете\n",
    "display(data)"
   ]
  },
  {
   "cell_type": "code",
   "execution_count": 83,
   "metadata": {
    "execution": {
     "iopub.execute_input": "2021-07-07T11:46:04.656553Z",
     "iopub.status.busy": "2021-07-07T11:46:04.656096Z",
     "iopub.status.idle": "2021-07-07T11:46:04.769827Z",
     "shell.execute_reply": "2021-07-07T11:46:04.768875Z",
     "shell.execute_reply.started": "2021-07-07T11:46:04.656506Z"
    }
   },
   "outputs": [
    {
     "name": "stdout",
     "output_type": "stream",
     "text": [
      "<class 'pandas.core.frame.DataFrame'>\n",
      "RangeIndex: 110148 entries, 0 to 110147\n",
      "Data columns (total 20 columns):\n",
      " #   Column            Non-Null Count   Dtype  \n",
      "---  ------            --------------   -----  \n",
      " 0   client_id         110148 non-null  int64  \n",
      " 1   app_date          110148 non-null  object \n",
      " 2   education         109670 non-null  object \n",
      " 3   sex               110148 non-null  object \n",
      " 4   age               110148 non-null  int64  \n",
      " 5   car               110148 non-null  object \n",
      " 6   car_type          110148 non-null  object \n",
      " 7   decline_app_cnt   110148 non-null  int64  \n",
      " 8   good_work         110148 non-null  int64  \n",
      " 9   score_bki         110148 non-null  float64\n",
      " 10  bki_request_cnt   110148 non-null  int64  \n",
      " 11  region_rating     110148 non-null  int64  \n",
      " 12  home_address      110148 non-null  int64  \n",
      " 13  work_address      110148 non-null  int64  \n",
      " 14  income            110148 non-null  int64  \n",
      " 15  sna               110148 non-null  int64  \n",
      " 16  first_time        110148 non-null  int64  \n",
      " 17  foreign_passport  110148 non-null  object \n",
      " 18  default           110148 non-null  int64  \n",
      " 19  train             110148 non-null  int64  \n",
      "dtypes: float64(1), int64(13), object(6)\n",
      "memory usage: 16.8+ MB\n"
     ]
    }
   ],
   "source": [
    "# смотрим на информацию о датасете\n",
    "data.info()"
   ]
  },
  {
   "cell_type": "code",
   "execution_count": 84,
   "metadata": {
    "execution": {
     "iopub.execute_input": "2021-07-07T11:46:04.771131Z",
     "iopub.status.busy": "2021-07-07T11:46:04.770855Z",
     "iopub.status.idle": "2021-07-07T11:46:04.808145Z",
     "shell.execute_reply": "2021-07-07T11:46:04.806676Z",
     "shell.execute_reply.started": "2021-07-07T11:46:04.771104Z"
    }
   },
   "outputs": [
    {
     "data": {
      "image/png": "[encoded data removed]",
      "text/plain": [
       "<Figure size 1440x864 with 1 Axes>"
      ]
     },
     "metadata": {
      "needs_background": "light"
     },
     "output_type": "display_data"
    }
   ],
   "source": [
    "#Работа с пропусками\n",
    "fig, ax = plt.subplots(figsize=(20,12))\n",
    "sns_heatmap = sns.heatmap(data.isnull(), yticklabels=False, cbar=False, cmap='viridis')"
   ]
  },
  {
   "cell_type": "code",
   "execution_count": 85,
   "metadata": {
    "execution": {
     "iopub.execute_input": "2021-07-07T11:46:04.810061Z",
     "iopub.status.busy": "2021-07-07T11:46:04.809712Z",
     "iopub.status.idle": "2021-07-07T11:46:05.045402Z",
     "shell.execute_reply": "2021-07-07T11:46:05.043729Z",
     "shell.execute_reply.started": "2021-07-07T11:46:04.810024Z"
    }
   },
   "outputs": [
    {
     "data": {
      "text/plain": [
       "<AxesSubplot:>"
      ]
     },
     "execution_count": 85,
     "metadata": {},
     "output_type": "execute_result"
    },
    {
     "data": {
      "image/png": "[encoded data removed]",
      "text/plain": [
       "<Figure size 432x288 with 1 Axes>"
      ]
     },
     "metadata": {
      "needs_background": "light"
     },
     "output_type": "display_data"
    }
   ],
   "source": [
    "# определяем наиболее часто встречающимся значением в признаке 'education'\n",
    "data['education'].value_counts().plot.barh() "
   ]
  },
  {
   "cell_type": "code",
   "execution_count": 86,
   "metadata": {
    "execution": {
     "iopub.execute_input": "2021-07-07T11:46:05.047745Z",
     "iopub.status.busy": "2021-07-07T11:46:05.047326Z",
     "iopub.status.idle": "2021-07-07T11:46:05.105433Z",
     "shell.execute_reply": "2021-07-07T11:46:05.104231Z",
     "shell.execute_reply.started": "2021-07-07T11:46:05.047706Z"
    }
   },
   "outputs": [],
   "source": [
    "# заполням пропущенные значения наиболее часто встречающимся \"SCH\"\n",
    "data[data['education'].isnull()] = data[data['education'].isnull()].fillna('SCH')"
   ]
  },
  {
   "cell_type": "code",
   "execution_count": 87,
   "metadata": {
    "execution": {
     "iopub.execute_input": "2021-07-07T11:46:05.108039Z",
     "iopub.status.busy": "2021-07-07T11:46:05.107561Z",
     "iopub.status.idle": "2021-07-07T11:46:05.191807Z",
     "shell.execute_reply": "2021-07-07T11:46:05.190485Z",
     "shell.execute_reply.started": "2021-07-07T11:46:05.107992Z"
    }
   },
   "outputs": [
    {
     "data": {
      "text/plain": [
       "client_id           110148\n",
       "app_date               120\n",
       "education                5\n",
       "sex                      2\n",
       "age                     52\n",
       "car                      2\n",
       "car_type                 2\n",
       "decline_app_cnt         24\n",
       "good_work                2\n",
       "score_bki           102618\n",
       "bki_request_cnt         40\n",
       "region_rating            7\n",
       "home_address             3\n",
       "work_address             3\n",
       "income                1207\n",
       "sna                      4\n",
       "first_time               4\n",
       "foreign_passport         2\n",
       "default                  2\n",
       "train                    2\n",
       "dtype: int64"
      ]
     },
     "execution_count": 87,
     "metadata": {},
     "output_type": "execute_result"
    }
   ],
   "source": [
    "# посмотрим количество уникальных значений в каждом признаке датасета\n",
    "data.nunique()"
   ]
  },
  {
   "cell_type": "markdown",
   "metadata": {},
   "source": [
    "Выделим из датасета бинарные (за исключением 'default' и 'train'), категориальные \n",
    "и числовые признаки (за исключением 'client_id')."
   ]
  },
  {
   "cell_type": "code",
   "execution_count": 88,
   "metadata": {
    "execution": {
     "iopub.execute_input": "2021-07-07T11:46:05.194478Z",
     "iopub.status.busy": "2021-07-07T11:46:05.193852Z",
     "iopub.status.idle": "2021-07-07T11:46:05.202958Z",
     "shell.execute_reply": "2021-07-07T11:46:05.201450Z",
     "shell.execute_reply.started": "2021-07-07T11:46:05.194427Z"
    }
   },
   "outputs": [],
   "source": [
    "# бинарные признаки\n",
    "bin_cols = ['sex', 'car', 'car_type', 'good_work', 'foreign_passport']\n",
    "# категориальные признаки\n",
    "cat_cols = ['education', 'home_address', 'work_address', 'sna', 'first_time']\n",
    "# числовые признаки\n",
    "num_cols = ['age', 'decline_app_cnt', 'score_bki', 'bki_request_cnt', 'region_rating', 'income']"
   ]
  },
  {
   "cell_type": "markdown",
   "metadata": {},
   "source": [
    "На этом предварительный анализ датасета закончим и перейдем к анализу непосредственно самих данных,\n",
    "их преобразованию и созданию новых признаков."
   ]
  },
  {
   "cell_type": "markdown",
   "metadata": {},
   "source": [
    "# **Анализ и преобразование данных**"
   ]
  },
  {
   "cell_type": "markdown",
   "metadata": {},
   "source": [
    "**Целевой признак 'default'**"
   ]
  },
  {
   "cell_type": "markdown",
   "metadata": {},
   "source": [
    "Посмотрим на распределение целевого признака 'default' для записей из датасета 'train'"
   ]
  },
  {
   "cell_type": "code",
   "execution_count": 89,
   "metadata": {
    "execution": {
     "iopub.execute_input": "2021-07-07T11:46:05.205062Z",
     "iopub.status.busy": "2021-07-07T11:46:05.204711Z",
     "iopub.status.idle": "2021-07-07T11:46:05.367709Z",
     "shell.execute_reply": "2021-07-07T11:46:05.366034Z",
     "shell.execute_reply.started": "2021-07-07T11:46:05.205028Z"
    }
   },
   "outputs": [
    {
     "data": {
      "text/plain": [
       "<AxesSubplot:xlabel='default', ylabel='count'>"
      ]
     },
     "execution_count": 89,
     "metadata": {},
     "output_type": "execute_result"
    },
    {
     "data": {
      "image/png": "[encoded data removed]",
      "text/plain": [
       "<Figure size 432x288 with 1 Axes>"
      ]
     },
     "metadata": {
      "needs_background": "light"
     },
     "output_type": "display_data"
    }
   ],
   "source": [
    "sns.countplot(x='default', data = data[data['train'] == 1])"
   ]
  },
  {
   "cell_type": "markdown",
   "metadata": {},
   "source": [
    "Видим, что большинство значений в признаке равно нулю. Т.е. распределение несбалансированное."
   ]
  },
  {
   "cell_type": "markdown",
   "metadata": {},
   "source": [
    "**Признака 'app_date'**"
   ]
  },
  {
   "cell_type": "markdown",
   "metadata": {},
   "source": [
    "Первый признак, который нас интересует - кол-во заявко поданных за каждый день рассматриваемого периода."
   ]
  },
  {
   "cell_type": "code",
   "execution_count": 90,
   "metadata": {
    "execution": {
     "iopub.execute_input": "2021-07-07T11:46:05.370392Z",
     "iopub.status.busy": "2021-07-07T11:46:05.369895Z",
     "iopub.status.idle": "2021-07-07T11:46:05.427220Z",
     "shell.execute_reply": "2021-07-07T11:46:05.425817Z",
     "shell.execute_reply.started": "2021-07-07T11:46:05.370341Z"
    }
   },
   "outputs": [
    {
     "data": {
      "text/plain": [
       "0        2014-02-01\n",
       "1        2014-03-12\n",
       "2        2014-02-01\n",
       "3        2014-01-23\n",
       "4        2014-04-18\n",
       "            ...    \n",
       "110143   2014-03-31\n",
       "110144   2014-04-25\n",
       "110145   2014-03-30\n",
       "110146   2014-01-07\n",
       "110147   2014-03-17\n",
       "Name: app_date, Length: 110148, dtype: datetime64[ns]"
      ]
     },
     "execution_count": 90,
     "metadata": {},
     "output_type": "execute_result"
    }
   ],
   "source": [
    "# пребразуем значения признака в формат datetime\n",
    "data.app_date = pd.to_datetime(data.app_date)\n",
    "data.app_date"
   ]
  },
  {
   "cell_type": "markdown",
   "metadata": {},
   "source": [
    "Рассмотрим датасет 'train'."
   ]
  },
  {
   "cell_type": "code",
   "execution_count": 91,
   "metadata": {
    "execution": {
     "iopub.execute_input": "2021-07-07T11:46:05.429085Z",
     "iopub.status.busy": "2021-07-07T11:46:05.428771Z",
     "iopub.status.idle": "2021-07-07T11:46:05.443165Z",
     "shell.execute_reply": "2021-07-07T11:46:05.441725Z",
     "shell.execute_reply.started": "2021-07-07T11:46:05.429055Z"
    }
   },
   "outputs": [
    {
     "data": {
      "text/plain": [
       "2014-03-18    1018\n",
       "2014-03-17     911\n",
       "2014-03-19     909\n",
       "2014-03-31     904\n",
       "2014-04-07     882\n",
       "              ... \n",
       "2014-04-20     243\n",
       "2014-01-07     228\n",
       "2014-01-03     193\n",
       "2014-01-02     137\n",
       "2014-01-01      43\n",
       "Name: app_date, Length: 120, dtype: int64"
      ]
     },
     "execution_count": 91,
     "metadata": {},
     "output_type": "execute_result"
    }
   ],
   "source": [
    "num_of_app_train = data['app_date'][data['train'] == 1].value_counts()\n",
    "num_of_app_train"
   ]
  },
  {
   "cell_type": "markdown",
   "metadata": {},
   "source": [
    "Посмотрим на распределение кол-ва заявок по дням.\n",
    "Рассматриваем датасет 'train'."
   ]
  },
  {
   "cell_type": "code",
   "execution_count": 92,
   "metadata": {
    "execution": {
     "iopub.execute_input": "2021-07-07T11:46:05.445179Z",
     "iopub.status.busy": "2021-07-07T11:46:05.444845Z",
     "iopub.status.idle": "2021-07-07T11:46:06.011607Z",
     "shell.execute_reply": "2021-07-07T11:46:06.010405Z",
     "shell.execute_reply.started": "2021-07-07T11:46:05.445146Z"
    }
   },
   "outputs": [
    {
     "data": {
      "image/png": "[encoded data removed]",
      "text/plain": [
       "<Figure size 432x288 with 1 Axes>"
      ]
     },
     "metadata": {
      "needs_background": "light"
     },
     "output_type": "display_data"
    }
   ],
   "source": [
    "plt.bar(num_of_app_train.index, num_of_app_train)\n",
    "plt.xticks(rotation=45)\n",
    "plt.show()"
   ]
  },
  {
   "cell_type": "markdown",
   "metadata": {},
   "source": [
    "По графику видно, что  начале года кол-во заявок росло. \n",
    "Ближе к концу рассматриваемого периода наметился тренд на снижение."
   ]
  },
  {
   "cell_type": "markdown",
   "metadata": {},
   "source": [
    "Следующий признак, который нас интересует - распределение дефолтов по дате подачи заявки.\n",
    "Рассматриваем датасет 'train'."
   ]
  },
  {
   "cell_type": "code",
   "execution_count": 93,
   "metadata": {
    "execution": {
     "iopub.execute_input": "2021-07-07T11:46:06.014270Z",
     "iopub.status.busy": "2021-07-07T11:46:06.013931Z",
     "iopub.status.idle": "2021-07-07T11:46:06.028992Z",
     "shell.execute_reply": "2021-07-07T11:46:06.027578Z",
     "shell.execute_reply.started": "2021-07-07T11:46:06.014237Z"
    }
   },
   "outputs": [],
   "source": [
    "num_of_def_train = data['app_date'][(data['train'] == 1) & (data['default'] == 1)].value_counts()"
   ]
  },
  {
   "cell_type": "markdown",
   "metadata": {},
   "source": [
    "Посмотрим на распределение кол-ва дефолтов по дате выдачи заявки.\n",
    "Рассматриваем для строк из датасета train."
   ]
  },
  {
   "cell_type": "code",
   "execution_count": 94,
   "metadata": {
    "execution": {
     "iopub.execute_input": "2021-07-07T11:46:06.031191Z",
     "iopub.status.busy": "2021-07-07T11:46:06.030716Z",
     "iopub.status.idle": "2021-07-07T11:46:06.424131Z",
     "shell.execute_reply": "2021-07-07T11:46:06.423254Z",
     "shell.execute_reply.started": "2021-07-07T11:46:06.031133Z"
    }
   },
   "outputs": [
    {
     "data": {
      "image/png": "[encoded data removed]",
      "text/plain": [
       "<Figure size 432x288 with 1 Axes>"
      ]
     },
     "metadata": {
      "needs_background": "light"
     },
     "output_type": "display_data"
    }
   ],
   "source": [
    "plt.bar(num_of_def_train.index, num_of_def_train)\n",
    "plt.xticks(rotation=45)\n",
    "plt.show()"
   ]
  },
  {
   "cell_type": "markdown",
   "metadata": {},
   "source": [
    "По графику видно, что в начале кол-во дефолтов росло. \n",
    "Ближе к концу рассматриваемого периода наметился тренд на снижение.\n",
    "Можно сделать вывод, что банк стал лучше работать со временем: он стал меньше выдавать потенциально проблемных кредитов и кол-во дефолтов снизилось."
   ]
  },
  {
   "cell_type": "markdown",
   "metadata": {},
   "source": [
    "Создадим новые признаки на основе признака 'app_date'."
   ]
  },
  {
   "cell_type": "code",
   "execution_count": 95,
   "metadata": {
    "execution": {
     "iopub.execute_input": "2021-07-07T11:46:06.426351Z",
     "iopub.status.busy": "2021-07-07T11:46:06.425720Z",
     "iopub.status.idle": "2021-07-07T11:46:08.495232Z",
     "shell.execute_reply": "2021-07-07T11:46:08.493728Z",
     "shell.execute_reply.started": "2021-07-07T11:46:06.426300Z"
    }
   },
   "outputs": [
    {
     "data": {
      "text/html": [
       "<div>\n",
       "<style scoped>\n",
       "    .dataframe tbody tr th:only-of-type {\n",
       "        vertical-align: middle;\n",
       "    }\n",
       "\n",
       "    .dataframe tbody tr th {\n",
       "        vertical-align: top;\n",
       "    }\n",
       "\n",
       "    .dataframe thead th {\n",
       "        text-align: right;\n",
       "    }\n",
       "</style>\n",
       "<table border=\"1\" class=\"dataframe\">\n",
       "  <thead>\n",
       "    <tr style=\"text-align: right;\">\n",
       "      <th></th>\n",
       "      <th>client_id</th>\n",
       "      <th>app_date</th>\n",
       "      <th>education</th>\n",
       "      <th>sex</th>\n",
       "      <th>age</th>\n",
       "      <th>car</th>\n",
       "      <th>car_type</th>\n",
       "      <th>decline_app_cnt</th>\n",
       "      <th>good_work</th>\n",
       "      <th>score_bki</th>\n",
       "      <th>bki_request_cnt</th>\n",
       "      <th>region_rating</th>\n",
       "      <th>home_address</th>\n",
       "      <th>work_address</th>\n",
       "      <th>income</th>\n",
       "      <th>sna</th>\n",
       "      <th>first_time</th>\n",
       "      <th>foreign_passport</th>\n",
       "      <th>default</th>\n",
       "      <th>train</th>\n",
       "      <th>num_of_app</th>\n",
       "      <th>num_of_def</th>\n",
       "      <th>per_of_def</th>\n",
       "    </tr>\n",
       "  </thead>\n",
       "  <tbody>\n",
       "    <tr>\n",
       "      <th>0</th>\n",
       "      <td>25905</td>\n",
       "      <td>2014-02-01</td>\n",
       "      <td>SCH</td>\n",
       "      <td>M</td>\n",
       "      <td>62</td>\n",
       "      <td>Y</td>\n",
       "      <td>Y</td>\n",
       "      <td>0</td>\n",
       "      <td>0</td>\n",
       "      <td>-2.008753</td>\n",
       "      <td>1</td>\n",
       "      <td>50</td>\n",
       "      <td>1</td>\n",
       "      <td>2</td>\n",
       "      <td>18000</td>\n",
       "      <td>4</td>\n",
       "      <td>1</td>\n",
       "      <td>N</td>\n",
       "      <td>0</td>\n",
       "      <td>1</td>\n",
       "      <td>542</td>\n",
       "      <td>63</td>\n",
       "      <td>0.116236</td>\n",
       "    </tr>\n",
       "    <tr>\n",
       "      <th>1</th>\n",
       "      <td>63161</td>\n",
       "      <td>2014-03-12</td>\n",
       "      <td>SCH</td>\n",
       "      <td>F</td>\n",
       "      <td>59</td>\n",
       "      <td>N</td>\n",
       "      <td>N</td>\n",
       "      <td>0</td>\n",
       "      <td>0</td>\n",
       "      <td>-1.532276</td>\n",
       "      <td>3</td>\n",
       "      <td>50</td>\n",
       "      <td>2</td>\n",
       "      <td>3</td>\n",
       "      <td>19000</td>\n",
       "      <td>4</td>\n",
       "      <td>1</td>\n",
       "      <td>N</td>\n",
       "      <td>0</td>\n",
       "      <td>1</td>\n",
       "      <td>737</td>\n",
       "      <td>88</td>\n",
       "      <td>0.119403</td>\n",
       "    </tr>\n",
       "    <tr>\n",
       "      <th>2</th>\n",
       "      <td>25887</td>\n",
       "      <td>2014-02-01</td>\n",
       "      <td>SCH</td>\n",
       "      <td>M</td>\n",
       "      <td>25</td>\n",
       "      <td>Y</td>\n",
       "      <td>N</td>\n",
       "      <td>2</td>\n",
       "      <td>0</td>\n",
       "      <td>-1.408142</td>\n",
       "      <td>1</td>\n",
       "      <td>80</td>\n",
       "      <td>1</td>\n",
       "      <td>2</td>\n",
       "      <td>30000</td>\n",
       "      <td>1</td>\n",
       "      <td>4</td>\n",
       "      <td>Y</td>\n",
       "      <td>0</td>\n",
       "      <td>1</td>\n",
       "      <td>542</td>\n",
       "      <td>63</td>\n",
       "      <td>0.116236</td>\n",
       "    </tr>\n",
       "    <tr>\n",
       "      <th>3</th>\n",
       "      <td>16222</td>\n",
       "      <td>2014-01-23</td>\n",
       "      <td>SCH</td>\n",
       "      <td>F</td>\n",
       "      <td>53</td>\n",
       "      <td>N</td>\n",
       "      <td>N</td>\n",
       "      <td>0</td>\n",
       "      <td>0</td>\n",
       "      <td>-2.057471</td>\n",
       "      <td>2</td>\n",
       "      <td>50</td>\n",
       "      <td>2</td>\n",
       "      <td>3</td>\n",
       "      <td>10000</td>\n",
       "      <td>1</td>\n",
       "      <td>3</td>\n",
       "      <td>N</td>\n",
       "      <td>0</td>\n",
       "      <td>1</td>\n",
       "      <td>703</td>\n",
       "      <td>122</td>\n",
       "      <td>0.173542</td>\n",
       "    </tr>\n",
       "    <tr>\n",
       "      <th>4</th>\n",
       "      <td>101655</td>\n",
       "      <td>2014-04-18</td>\n",
       "      <td>GRD</td>\n",
       "      <td>M</td>\n",
       "      <td>48</td>\n",
       "      <td>N</td>\n",
       "      <td>N</td>\n",
       "      <td>0</td>\n",
       "      <td>1</td>\n",
       "      <td>-1.244723</td>\n",
       "      <td>1</td>\n",
       "      <td>60</td>\n",
       "      <td>2</td>\n",
       "      <td>3</td>\n",
       "      <td>30000</td>\n",
       "      <td>1</td>\n",
       "      <td>4</td>\n",
       "      <td>Y</td>\n",
       "      <td>0</td>\n",
       "      <td>1</td>\n",
       "      <td>661</td>\n",
       "      <td>52</td>\n",
       "      <td>0.078669</td>\n",
       "    </tr>\n",
       "  </tbody>\n",
       "</table>\n",
       "</div>"
      ],
      "text/plain": [
       "   client_id   app_date education sex  age car car_type  decline_app_cnt  \\\n",
       "0      25905 2014-02-01       SCH   M   62   Y        Y                0   \n",
       "1      63161 2014-03-12       SCH   F   59   N        N                0   \n",
       "2      25887 2014-02-01       SCH   M   25   Y        N                2   \n",
       "3      16222 2014-01-23       SCH   F   53   N        N                0   \n",
       "4     101655 2014-04-18       GRD   M   48   N        N                0   \n",
       "\n",
       "   good_work  score_bki  bki_request_cnt  region_rating  home_address  \\\n",
       "0          0  -2.008753                1             50             1   \n",
       "1          0  -1.532276                3             50             2   \n",
       "2          0  -1.408142                1             80             1   \n",
       "3          0  -2.057471                2             50             2   \n",
       "4          1  -1.244723                1             60             2   \n",
       "\n",
       "   work_address  income  sna  first_time foreign_passport  default  train  \\\n",
       "0             2   18000    4           1                N        0      1   \n",
       "1             3   19000    4           1                N        0      1   \n",
       "2             2   30000    1           4                Y        0      1   \n",
       "3             3   10000    1           3                N        0      1   \n",
       "4             3   30000    1           4                Y        0      1   \n",
       "\n",
       "   num_of_app  num_of_def  per_of_def  \n",
       "0         542          63    0.116236  \n",
       "1         737          88    0.119403  \n",
       "2         542          63    0.116236  \n",
       "3         703         122    0.173542  \n",
       "4         661          52    0.078669  "
      ]
     },
     "execution_count": 95,
     "metadata": {},
     "output_type": "execute_result"
    }
   ],
   "source": [
    "# добавим в датасет кол-во заявок, поданных в каждую дату по данным датасета train\n",
    "data['num_of_app'] = data['app_date'].replace(to_replace=num_of_app_train.to_dict())\n",
    "\n",
    "# добавим в датасет кол-во дефолтов, на каждую дату поданной заявки по данным датасета train\n",
    "data['num_of_def'] = data['app_date'].replace(to_replace=num_of_def_train.to_dict())\n",
    "\n",
    "# на основе добавленных признаков создадим новый - доля дефолтов от кол-ва поданных заявок\n",
    "data['per_of_def'] = data['num_of_def'] / data['num_of_app']\n",
    "data.head()"
   ]
  },
  {
   "cell_type": "markdown",
   "metadata": {},
   "source": [
    "Уберем из датасета data кол-во дефолтов по данным датасета train, \n",
    "т.к. в новом датасете data картина может быть другой."
   ]
  },
  {
   "cell_type": "code",
   "execution_count": 96,
   "metadata": {
    "execution": {
     "iopub.execute_input": "2021-07-07T11:46:08.497090Z",
     "iopub.status.busy": "2021-07-07T11:46:08.496773Z",
     "iopub.status.idle": "2021-07-07T11:46:08.504092Z",
     "shell.execute_reply": "2021-07-07T11:46:08.502610Z",
     "shell.execute_reply.started": "2021-07-07T11:46:08.497060Z"
    }
   },
   "outputs": [],
   "source": [
    "del data['num_of_def']"
   ]
  },
  {
   "cell_type": "markdown",
   "metadata": {},
   "source": [
    "Также заменим значения в признаке кол-во заявок по данным датасета train на кол-во заявок \n",
    "в новом датасете data. (Т.е. по сути, добавим эту информацию для записей из датасета test.)"
   ]
  },
  {
   "cell_type": "code",
   "execution_count": 97,
   "metadata": {
    "execution": {
     "iopub.execute_input": "2021-07-07T11:46:08.506579Z",
     "iopub.status.busy": "2021-07-07T11:46:08.506089Z",
     "iopub.status.idle": "2021-07-07T11:46:09.467288Z",
     "shell.execute_reply": "2021-07-07T11:46:09.465880Z",
     "shell.execute_reply.started": "2021-07-07T11:46:08.506530Z"
    }
   },
   "outputs": [],
   "source": [
    "num_of_app_data = data['app_date'].value_counts()\n",
    "data['num_of_app'] = data['app_date'].replace(to_replace=num_of_app_data.to_dict())"
   ]
  },
  {
   "cell_type": "code",
   "execution_count": 98,
   "metadata": {
    "execution": {
     "iopub.execute_input": "2021-07-07T11:46:09.469018Z",
     "iopub.status.busy": "2021-07-07T11:46:09.468724Z",
     "iopub.status.idle": "2021-07-07T11:46:09.473939Z",
     "shell.execute_reply": "2021-07-07T11:46:09.472780Z",
     "shell.execute_reply.started": "2021-07-07T11:46:09.468989Z"
    }
   },
   "outputs": [],
   "source": [
    "# добавим новые признаки 'per_of_def', 'num_of_app' в список числовых признаков\n",
    "num_cols.append('per_of_def')\n",
    "num_cols.append('num_of_app')"
   ]
  },
  {
   "cell_type": "code",
   "execution_count": 99,
   "metadata": {
    "execution": {
     "iopub.execute_input": "2021-07-07T11:46:09.475812Z",
     "iopub.status.busy": "2021-07-07T11:46:09.475359Z",
     "iopub.status.idle": "2021-07-07T11:46:09.569285Z",
     "shell.execute_reply": "2021-07-07T11:46:09.568012Z",
     "shell.execute_reply.started": "2021-07-07T11:46:09.475766Z"
    }
   },
   "outputs": [
    {
     "data": {
      "text/html": [
       "<div>\n",
       "<style scoped>\n",
       "    .dataframe tbody tr th:only-of-type {\n",
       "        vertical-align: middle;\n",
       "    }\n",
       "\n",
       "    .dataframe tbody tr th {\n",
       "        vertical-align: top;\n",
       "    }\n",
       "\n",
       "    .dataframe thead th {\n",
       "        text-align: right;\n",
       "    }\n",
       "</style>\n",
       "<table border=\"1\" class=\"dataframe\">\n",
       "  <thead>\n",
       "    <tr style=\"text-align: right;\">\n",
       "      <th></th>\n",
       "      <th>client_id</th>\n",
       "      <th>app_date</th>\n",
       "      <th>education</th>\n",
       "      <th>sex</th>\n",
       "      <th>age</th>\n",
       "      <th>car</th>\n",
       "      <th>car_type</th>\n",
       "      <th>decline_app_cnt</th>\n",
       "      <th>good_work</th>\n",
       "      <th>score_bki</th>\n",
       "      <th>bki_request_cnt</th>\n",
       "      <th>region_rating</th>\n",
       "      <th>home_address</th>\n",
       "      <th>work_address</th>\n",
       "      <th>income</th>\n",
       "      <th>sna</th>\n",
       "      <th>first_time</th>\n",
       "      <th>foreign_passport</th>\n",
       "      <th>default</th>\n",
       "      <th>train</th>\n",
       "      <th>num_of_app</th>\n",
       "      <th>per_of_def</th>\n",
       "    </tr>\n",
       "  </thead>\n",
       "  <tbody>\n",
       "    <tr>\n",
       "      <th>0</th>\n",
       "      <td>25905</td>\n",
       "      <td>2014-02-01</td>\n",
       "      <td>SCH</td>\n",
       "      <td>M</td>\n",
       "      <td>62</td>\n",
       "      <td>Y</td>\n",
       "      <td>Y</td>\n",
       "      <td>0</td>\n",
       "      <td>0</td>\n",
       "      <td>-2.008753</td>\n",
       "      <td>1</td>\n",
       "      <td>50</td>\n",
       "      <td>1</td>\n",
       "      <td>2</td>\n",
       "      <td>18000</td>\n",
       "      <td>4</td>\n",
       "      <td>1</td>\n",
       "      <td>N</td>\n",
       "      <td>0</td>\n",
       "      <td>1</td>\n",
       "      <td>794</td>\n",
       "      <td>0.116236</td>\n",
       "    </tr>\n",
       "    <tr>\n",
       "      <th>1</th>\n",
       "      <td>63161</td>\n",
       "      <td>2014-03-12</td>\n",
       "      <td>SCH</td>\n",
       "      <td>F</td>\n",
       "      <td>59</td>\n",
       "      <td>N</td>\n",
       "      <td>N</td>\n",
       "      <td>0</td>\n",
       "      <td>0</td>\n",
       "      <td>-1.532276</td>\n",
       "      <td>3</td>\n",
       "      <td>50</td>\n",
       "      <td>2</td>\n",
       "      <td>3</td>\n",
       "      <td>19000</td>\n",
       "      <td>4</td>\n",
       "      <td>1</td>\n",
       "      <td>N</td>\n",
       "      <td>0</td>\n",
       "      <td>1</td>\n",
       "      <td>1110</td>\n",
       "      <td>0.119403</td>\n",
       "    </tr>\n",
       "    <tr>\n",
       "      <th>2</th>\n",
       "      <td>25887</td>\n",
       "      <td>2014-02-01</td>\n",
       "      <td>SCH</td>\n",
       "      <td>M</td>\n",
       "      <td>25</td>\n",
       "      <td>Y</td>\n",
       "      <td>N</td>\n",
       "      <td>2</td>\n",
       "      <td>0</td>\n",
       "      <td>-1.408142</td>\n",
       "      <td>1</td>\n",
       "      <td>80</td>\n",
       "      <td>1</td>\n",
       "      <td>2</td>\n",
       "      <td>30000</td>\n",
       "      <td>1</td>\n",
       "      <td>4</td>\n",
       "      <td>Y</td>\n",
       "      <td>0</td>\n",
       "      <td>1</td>\n",
       "      <td>794</td>\n",
       "      <td>0.116236</td>\n",
       "    </tr>\n",
       "    <tr>\n",
       "      <th>3</th>\n",
       "      <td>16222</td>\n",
       "      <td>2014-01-23</td>\n",
       "      <td>SCH</td>\n",
       "      <td>F</td>\n",
       "      <td>53</td>\n",
       "      <td>N</td>\n",
       "      <td>N</td>\n",
       "      <td>0</td>\n",
       "      <td>0</td>\n",
       "      <td>-2.057471</td>\n",
       "      <td>2</td>\n",
       "      <td>50</td>\n",
       "      <td>2</td>\n",
       "      <td>3</td>\n",
       "      <td>10000</td>\n",
       "      <td>1</td>\n",
       "      <td>3</td>\n",
       "      <td>N</td>\n",
       "      <td>0</td>\n",
       "      <td>1</td>\n",
       "      <td>1060</td>\n",
       "      <td>0.173542</td>\n",
       "    </tr>\n",
       "    <tr>\n",
       "      <th>4</th>\n",
       "      <td>101655</td>\n",
       "      <td>2014-04-18</td>\n",
       "      <td>GRD</td>\n",
       "      <td>M</td>\n",
       "      <td>48</td>\n",
       "      <td>N</td>\n",
       "      <td>N</td>\n",
       "      <td>0</td>\n",
       "      <td>1</td>\n",
       "      <td>-1.244723</td>\n",
       "      <td>1</td>\n",
       "      <td>60</td>\n",
       "      <td>2</td>\n",
       "      <td>3</td>\n",
       "      <td>30000</td>\n",
       "      <td>1</td>\n",
       "      <td>4</td>\n",
       "      <td>Y</td>\n",
       "      <td>0</td>\n",
       "      <td>1</td>\n",
       "      <td>981</td>\n",
       "      <td>0.078669</td>\n",
       "    </tr>\n",
       "  </tbody>\n",
       "</table>\n",
       "</div>"
      ],
      "text/plain": [
       "   client_id   app_date education sex  age car car_type  decline_app_cnt  \\\n",
       "0      25905 2014-02-01       SCH   M   62   Y        Y                0   \n",
       "1      63161 2014-03-12       SCH   F   59   N        N                0   \n",
       "2      25887 2014-02-01       SCH   M   25   Y        N                2   \n",
       "3      16222 2014-01-23       SCH   F   53   N        N                0   \n",
       "4     101655 2014-04-18       GRD   M   48   N        N                0   \n",
       "\n",
       "   good_work  score_bki  bki_request_cnt  region_rating  home_address  \\\n",
       "0          0  -2.008753                1             50             1   \n",
       "1          0  -1.532276                3             50             2   \n",
       "2          0  -1.408142                1             80             1   \n",
       "3          0  -2.057471                2             50             2   \n",
       "4          1  -1.244723                1             60             2   \n",
       "\n",
       "   work_address  income  sna  first_time foreign_passport  default  train  \\\n",
       "0             2   18000    4           1                N        0      1   \n",
       "1             3   19000    4           1                N        0      1   \n",
       "2             2   30000    1           4                Y        0      1   \n",
       "3             3   10000    1           3                N        0      1   \n",
       "4             3   30000    1           4                Y        0      1   \n",
       "\n",
       "   num_of_app  per_of_def  \n",
       "0         794    0.116236  \n",
       "1        1110    0.119403  \n",
       "2         794    0.116236  \n",
       "3        1060    0.173542  \n",
       "4         981    0.078669  "
      ]
     },
     "execution_count": 99,
     "metadata": {},
     "output_type": "execute_result"
    }
   ],
   "source": [
    "# проверяем, что признаки добавлены\n",
    "data.head()"
   ]
  },
  {
   "cell_type": "markdown",
   "metadata": {},
   "source": [
    "**Категориальные признаки**"
   ]
  },
  {
   "cell_type": "code",
   "execution_count": 100,
   "metadata": {
    "execution": {
     "iopub.execute_input": "2021-07-07T11:46:09.571621Z",
     "iopub.status.busy": "2021-07-07T11:46:09.571162Z",
     "iopub.status.idle": "2021-07-07T11:46:10.411234Z",
     "shell.execute_reply": "2021-07-07T11:46:10.409988Z",
     "shell.execute_reply.started": "2021-07-07T11:46:09.571571Z"
    }
   },
   "outputs": [
    {
     "name": "stdout",
     "output_type": "stream",
     "text": [
      "Категориальный признак \"education\":\n",
      "SCH    39167\n",
      "GRD    23365\n",
      "UGR     9816\n",
      "PGR     1257\n",
      "ACD      194\n",
      "Name: education, dtype: int64\n"
     ]
    },
    {
     "data": {
      "image/png": "[encoded data removed]",
      "text/plain": [
       "<Figure size 432x288 with 1 Axes>"
      ]
     },
     "metadata": {
      "needs_background": "light"
     },
     "output_type": "display_data"
    },
    {
     "name": "stdout",
     "output_type": "stream",
     "text": [
      "Категориальный признак \"home_address\":\n",
      "2    39956\n",
      "1    32585\n",
      "3     1258\n",
      "Name: home_address, dtype: int64\n"
     ]
    },
    {
     "data": {
      "image/png": "[encoded data removed]",
      "text/plain": [
       "<Figure size 432x288 with 1 Axes>"
      ]
     },
     "metadata": {
      "needs_background": "light"
     },
     "output_type": "display_data"
    },
    {
     "name": "stdout",
     "output_type": "stream",
     "text": [
      "Категориальный признак \"work_address\":\n",
      "3    44959\n",
      "2    20506\n",
      "1     8334\n",
      "Name: work_address, dtype: int64\n"
     ]
    },
    {
     "data": {
      "image/png": "[encoded data removed]",
      "text/plain": [
       "<Figure size 432x288 with 1 Axes>"
      ]
     },
     "metadata": {
      "needs_background": "light"
     },
     "output_type": "display_data"
    },
    {
     "name": "stdout",
     "output_type": "stream",
     "text": [
      "Категориальный признак \"sna\":\n",
      "1    47301\n",
      "4    11749\n",
      "2    10626\n",
      "3     4123\n",
      "Name: sna, dtype: int64\n"
     ]
    },
    {
     "data": {
      "image/png": "[encoded data removed]",
      "text/plain": [
       "<Figure size 432x288 with 1 Axes>"
      ]
     },
     "metadata": {
      "needs_background": "light"
     },
     "output_type": "display_data"
    },
    {
     "name": "stdout",
     "output_type": "stream",
     "text": [
      "Категориальный признак \"first_time\":\n",
      "3    31255\n",
      "4    18737\n",
      "1    12239\n",
      "2    11568\n",
      "Name: first_time, dtype: int64\n"
     ]
    },
    {
     "data": {
      "image/png": "[encoded data removed]",
      "text/plain": [
       "<Figure size 432x288 with 1 Axes>"
      ]
     },
     "metadata": {
      "needs_background": "light"
     },
     "output_type": "display_data"
    }
   ],
   "source": [
    "# рассматриваем для датасета train\n",
    "for col in cat_cols:\n",
    "    print('Категориальный признак \"{a}\":'.format(a=col)) # выводим название признака\n",
    "    print(data[col][data['train'] == 1].value_counts()) # выводим уникальные значения и их количество\n",
    "    # выводим распределение заемщиков по признакам\n",
    "    plt.figure()\n",
    "    sns.countplot(x=col, data = data[data['train'] == 1])\n",
    "    plt.show()"
   ]
  },
  {
   "cell_type": "markdown",
   "metadata": {},
   "source": [
    "Выводы:\n",
    "в признаке \"education\" приходится малая доля на значения PGR и ACD,\n",
    "в признаке \"home_address\" приходится малая доля на значение 3.\n",
    "Для остальных признаков доля всех значений достаточно велика, но имется один ярко выраженный признак."
   ]
  },
  {
   "cell_type": "markdown",
   "metadata": {},
   "source": [
    "**Бинарные признаки**"
   ]
  },
  {
   "cell_type": "code",
   "execution_count": 101,
   "metadata": {
    "execution": {
     "iopub.execute_input": "2021-07-07T11:46:10.412864Z",
     "iopub.status.busy": "2021-07-07T11:46:10.412541Z",
     "iopub.status.idle": "2021-07-07T11:46:11.237059Z",
     "shell.execute_reply": "2021-07-07T11:46:11.235701Z",
     "shell.execute_reply.started": "2021-07-07T11:46:10.412835Z"
    }
   },
   "outputs": [
    {
     "name": "stdout",
     "output_type": "stream",
     "text": [
      "Бинарный признак \"sex\":\n",
      "F    41562\n",
      "M    32237\n",
      "Name: sex, dtype: int64\n"
     ]
    },
    {
     "data": {
      "image/png": "[encoded data removed]",
      "text/plain": [
       "<Figure size 432x288 with 1 Axes>"
      ]
     },
     "metadata": {
      "needs_background": "light"
     },
     "output_type": "display_data"
    },
    {
     "name": "stdout",
     "output_type": "stream",
     "text": [
      "Бинарный признак \"car\":\n",
      "N    49832\n",
      "Y    23967\n",
      "Name: car, dtype: int64\n"
     ]
    },
    {
     "data": {
      "image/png": "[encoded data removed]",
      "text/plain": [
       "<Figure size 432x288 with 1 Axes>"
      ]
     },
     "metadata": {
      "needs_background": "light"
     },
     "output_type": "display_data"
    },
    {
     "name": "stdout",
     "output_type": "stream",
     "text": [
      "Бинарный признак \"car_type\":\n",
      "N    59791\n",
      "Y    14008\n",
      "Name: car_type, dtype: int64\n"
     ]
    },
    {
     "data": {
      "image/png": "[encoded data removed]",
      "text/plain": [
       "<Figure size 432x288 with 1 Axes>"
      ]
     },
     "metadata": {
      "needs_background": "light"
     },
     "output_type": "display_data"
    },
    {
     "name": "stdout",
     "output_type": "stream",
     "text": [
      "Бинарный признак \"good_work\":\n",
      "0    61630\n",
      "1    12169\n",
      "Name: good_work, dtype: int64\n"
     ]
    },
    {
     "data": {
      "image/png": "[encoded data removed]",
      "text/plain": [
       "<Figure size 432x288 with 1 Axes>"
      ]
     },
     "metadata": {
      "needs_background": "light"
     },
     "output_type": "display_data"
    },
    {
     "name": "stdout",
     "output_type": "stream",
     "text": [
      "Бинарный признак \"foreign_passport\":\n",
      "N    62733\n",
      "Y    11066\n",
      "Name: foreign_passport, dtype: int64\n"
     ]
    },
    {
     "data": {
      "image/png": "[encoded data removed]",
      "text/plain": [
       "<Figure size 432x288 with 1 Axes>"
      ]
     },
     "metadata": {
      "needs_background": "light"
     },
     "output_type": "display_data"
    }
   ],
   "source": [
    "# рассматриваем для датасета train\n",
    "for col in bin_cols:\n",
    "    print('Бинарный признак \"{a}\":'.format(a=col)) # выводим название признака\n",
    "    print(data[col][data['train'] == 1].value_counts()) # выводим уникальные значения и их количество\n",
    "    # выводим распределение заемщиков по признакам\n",
    "    plt.figure()\n",
    "    sns.countplot(x=col, data = data[data['train'] == 1])\n",
    "    plt.show()"
   ]
  },
  {
   "cell_type": "markdown",
   "metadata": {},
   "source": [
    "Выводы:\n",
    "в признаке \"sex\" значения распределены примерно поровну,\n",
    "в остальных распределение неравномерно - имеется серьезное преобладание одного из признаков."
   ]
  },
  {
   "cell_type": "markdown",
   "metadata": {},
   "source": [
    "**Числовые признаки**"
   ]
  },
  {
   "cell_type": "code",
   "execution_count": 102,
   "metadata": {
    "execution": {
     "iopub.execute_input": "2021-07-07T11:46:11.238993Z",
     "iopub.status.busy": "2021-07-07T11:46:11.238585Z",
     "iopub.status.idle": "2021-07-07T11:46:13.116184Z",
     "shell.execute_reply": "2021-07-07T11:46:13.114691Z",
     "shell.execute_reply.started": "2021-07-07T11:46:11.238957Z"
    }
   },
   "outputs": [
    {
     "name": "stdout",
     "output_type": "stream",
     "text": [
      "Числовой признак \"age\":\n",
      "count    73799.000000\n",
      "mean        39.280641\n",
      "std         11.520378\n",
      "min         21.000000\n",
      "25%         30.000000\n",
      "50%         37.000000\n",
      "75%         48.000000\n",
      "max         72.000000\n",
      "Name: age, dtype: float64\n"
     ]
    },
    {
     "data": {
      "image/png": "[encoded data removed]",
      "text/plain": [
       "<Figure size 432x288 with 1 Axes>"
      ]
     },
     "metadata": {
      "needs_background": "light"
     },
     "output_type": "display_data"
    },
    {
     "name": "stdout",
     "output_type": "stream",
     "text": [
      "Числовой признак \"decline_app_cnt\":\n",
      "count    73799.000000\n",
      "mean         0.275749\n",
      "std          0.804272\n",
      "min          0.000000\n",
      "25%          0.000000\n",
      "50%          0.000000\n",
      "75%          0.000000\n",
      "max         33.000000\n",
      "Name: decline_app_cnt, dtype: float64\n"
     ]
    },
    {
     "data": {
      "image/png": "[encoded data removed]",
      "text/plain": [
       "<Figure size 432x288 with 1 Axes>"
      ]
     },
     "metadata": {
      "needs_background": "light"
     },
     "output_type": "display_data"
    },
    {
     "name": "stdout",
     "output_type": "stream",
     "text": [
      "Числовой признак \"score_bki\":\n",
      "count    73799.000000\n",
      "mean        -1.904724\n",
      "std          0.498231\n",
      "min         -3.624586\n",
      "25%         -2.259534\n",
      "50%         -1.920823\n",
      "75%         -1.569831\n",
      "max          0.199773\n",
      "Name: score_bki, dtype: float64\n"
     ]
    },
    {
     "data": {
      "image/png": "[encoded data removed]",
      "text/plain": [
       "<Figure size 432x288 with 1 Axes>"
      ]
     },
     "metadata": {
      "needs_background": "light"
     },
     "output_type": "display_data"
    },
    {
     "name": "stdout",
     "output_type": "stream",
     "text": [
      "Числовой признак \"bki_request_cnt\":\n",
      "count    73799.000000\n",
      "mean         2.000339\n",
      "std          2.252073\n",
      "min          0.000000\n",
      "25%          0.000000\n",
      "50%          1.000000\n",
      "75%          3.000000\n",
      "max         53.000000\n",
      "Name: bki_request_cnt, dtype: float64\n"
     ]
    },
    {
     "data": {
      "image/png": "[encoded data removed]",
      "text/plain": [
       "<Figure size 432x288 with 1 Axes>"
      ]
     },
     "metadata": {
      "needs_background": "light"
     },
     "output_type": "display_data"
    },
    {
     "name": "stdout",
     "output_type": "stream",
     "text": [
      "Числовой признак \"region_rating\":\n",
      "count    73799.000000\n",
      "mean        56.725701\n",
      "std         13.055717\n",
      "min         20.000000\n",
      "25%         50.000000\n",
      "50%         50.000000\n",
      "75%         60.000000\n",
      "max         80.000000\n",
      "Name: region_rating, dtype: float64\n"
     ]
    },
    {
     "data": {
      "image/png": "[encoded data removed]",
      "text/plain": [
       "<Figure size 432x288 with 1 Axes>"
      ]
     },
     "metadata": {
      "needs_background": "light"
     },
     "output_type": "display_data"
    },
    {
     "name": "stdout",
     "output_type": "stream",
     "text": [
      "Числовой признак \"income\":\n",
      "count      73799.000000\n",
      "mean       41099.775417\n",
      "std        46166.322400\n",
      "min         1000.000000\n",
      "25%        20000.000000\n",
      "50%        30000.000000\n",
      "75%        48000.000000\n",
      "max      1000000.000000\n",
      "Name: income, dtype: float64\n"
     ]
    },
    {
     "data": {
      "image/png": "[encoded data removed]",
      "text/plain": [
       "<Figure size 432x288 with 1 Axes>"
      ]
     },
     "metadata": {
      "needs_background": "light"
     },
     "output_type": "display_data"
    },
    {
     "name": "stdout",
     "output_type": "stream",
     "text": [
      "Числовой признак \"per_of_def\":\n",
      "count    73799.000000\n",
      "mean         0.126994\n",
      "std          0.020828\n",
      "min          0.076596\n",
      "25%          0.115489\n",
      "50%          0.129464\n",
      "75%          0.140306\n",
      "max          0.203252\n",
      "Name: per_of_def, dtype: float64\n"
     ]
    },
    {
     "data": {
      "image/png": "[encoded data removed]",
      "text/plain": [
       "<Figure size 432x288 with 1 Axes>"
      ]
     },
     "metadata": {
      "needs_background": "light"
     },
     "output_type": "display_data"
    },
    {
     "name": "stdout",
     "output_type": "stream",
     "text": [
      "Числовой признак \"num_of_app\":\n",
      "count    73799.000000\n",
      "mean      1003.073212\n",
      "std        235.056937\n",
      "min         56.000000\n",
      "25%        848.000000\n",
      "50%       1071.000000\n",
      "75%       1173.000000\n",
      "max       1491.000000\n",
      "Name: num_of_app, dtype: float64\n"
     ]
    },
    {
     "data": {
      "image/png": "[encoded data removed]",
      "text/plain": [
       "<Figure size 432x288 with 1 Axes>"
      ]
     },
     "metadata": {
      "needs_background": "light"
     },
     "output_type": "display_data"
    }
   ],
   "source": [
    "# рассматриваем для датасета train\n",
    "for col in num_cols:\n",
    "    print('Числовой признак \"{a}\":'.format(a=col)) # выводим название признака\n",
    "    print(data[col][data['train'] == 1].describe())\n",
    "    # выводим распределение заемщиков по признакам\n",
    "    data[col].hist(bins=20)\n",
    "    plt.show()"
   ]
  },
  {
   "cell_type": "code",
   "execution_count": 103,
   "metadata": {
    "execution": {
     "iopub.execute_input": "2021-07-07T11:46:13.118222Z",
     "iopub.status.busy": "2021-07-07T11:46:13.117894Z",
     "iopub.status.idle": "2021-07-07T11:46:14.831069Z",
     "shell.execute_reply": "2021-07-07T11:46:14.829851Z",
     "shell.execute_reply.started": "2021-07-07T11:46:13.118191Z"
    }
   },
   "outputs": [
    {
     "name": "stdout",
     "output_type": "stream",
     "text": [
      "Числовой признак \"age\":\n",
      "count    73799.000000\n",
      "mean        39.280641\n",
      "std         11.520378\n",
      "min         21.000000\n",
      "25%         30.000000\n",
      "50%         37.000000\n",
      "75%         48.000000\n",
      "max         72.000000\n",
      "Name: age, dtype: float64\n"
     ]
    },
    {
     "data": {
      "image/png": "[encoded data removed]",
      "text/plain": [
       "<Figure size 432x288 with 1 Axes>"
      ]
     },
     "metadata": {
      "needs_background": "light"
     },
     "output_type": "display_data"
    },
    {
     "name": "stdout",
     "output_type": "stream",
     "text": [
      "Числовой признак \"decline_app_cnt\":\n",
      "count    73799.000000\n",
      "mean         0.275749\n",
      "std          0.804272\n",
      "min          0.000000\n",
      "25%          0.000000\n",
      "50%          0.000000\n",
      "75%          0.000000\n",
      "max         33.000000\n",
      "Name: decline_app_cnt, dtype: float64\n"
     ]
    },
    {
     "data": {
      "image/png": "[encoded data removed]",
      "text/plain": [
       "<Figure size 432x288 with 1 Axes>"
      ]
     },
     "metadata": {
      "needs_background": "light"
     },
     "output_type": "display_data"
    },
    {
     "name": "stdout",
     "output_type": "stream",
     "text": [
      "Числовой признак \"score_bki\":\n",
      "count    73799.000000\n",
      "mean        -1.904724\n",
      "std          0.498231\n",
      "min         -3.624586\n",
      "25%         -2.259534\n",
      "50%         -1.920823\n",
      "75%         -1.569831\n",
      "max          0.199773\n",
      "Name: score_bki, dtype: float64\n"
     ]
    },
    {
     "name": "stderr",
     "output_type": "stream",
     "text": [
      "C:\\Users\\Dimon\\anaconda3\\lib\\site-packages\\pandas\\core\\arraylike.py:358: RuntimeWarning: invalid value encountered in log\n",
      "  result = getattr(ufunc, method)(*inputs, **kwargs)\n"
     ]
    },
    {
     "data": {
      "image/png": "[encoded data removed]",
      "text/plain": [
       "<Figure size 432x288 with 1 Axes>"
      ]
     },
     "metadata": {
      "needs_background": "light"
     },
     "output_type": "display_data"
    },
    {
     "name": "stdout",
     "output_type": "stream",
     "text": [
      "Числовой признак \"bki_request_cnt\":\n",
      "count    73799.000000\n",
      "mean         2.000339\n",
      "std          2.252073\n",
      "min          0.000000\n",
      "25%          0.000000\n",
      "50%          1.000000\n",
      "75%          3.000000\n",
      "max         53.000000\n",
      "Name: bki_request_cnt, dtype: float64\n"
     ]
    },
    {
     "data": {
      "image/png": "[encoded data removed]",
      "text/plain": [
       "<Figure size 432x288 with 1 Axes>"
      ]
     },
     "metadata": {
      "needs_background": "light"
     },
     "output_type": "display_data"
    },
    {
     "name": "stdout",
     "output_type": "stream",
     "text": [
      "Числовой признак \"region_rating\":\n",
      "count    73799.000000\n",
      "mean        56.725701\n",
      "std         13.055717\n",
      "min         20.000000\n",
      "25%         50.000000\n",
      "50%         50.000000\n",
      "75%         60.000000\n",
      "max         80.000000\n",
      "Name: region_rating, dtype: float64\n"
     ]
    },
    {
     "data": {
      "image/png": "[encoded data removed]",
      "text/plain": [
       "<Figure size 432x288 with 1 Axes>"
      ]
     },
     "metadata": {
      "needs_background": "light"
     },
     "output_type": "display_data"
    },
    {
     "name": "stdout",
     "output_type": "stream",
     "text": [
      "Числовой признак \"income\":\n",
      "count      73799.000000\n",
      "mean       41099.775417\n",
      "std        46166.322400\n",
      "min         1000.000000\n",
      "25%        20000.000000\n",
      "50%        30000.000000\n",
      "75%        48000.000000\n",
      "max      1000000.000000\n",
      "Name: income, dtype: float64\n"
     ]
    },
    {
     "data": {
      "image/png": "[encoded data removed]",
      "text/plain": [
       "<Figure size 432x288 with 1 Axes>"
      ]
     },
     "metadata": {
      "needs_background": "light"
     },
     "output_type": "display_data"
    },
    {
     "name": "stdout",
     "output_type": "stream",
     "text": [
      "Числовой признак \"per_of_def\":\n",
      "count    73799.000000\n",
      "mean         0.126994\n",
      "std          0.020828\n",
      "min          0.076596\n",
      "25%          0.115489\n",
      "50%          0.129464\n",
      "75%          0.140306\n",
      "max          0.203252\n",
      "Name: per_of_def, dtype: float64\n"
     ]
    },
    {
     "data": {
      "image/png": "[encoded data removed]",
      "text/plain": [
       "<Figure size 432x288 with 1 Axes>"
      ]
     },
     "metadata": {
      "needs_background": "light"
     },
     "output_type": "display_data"
    },
    {
     "name": "stdout",
     "output_type": "stream",
     "text": [
      "Числовой признак \"num_of_app\":\n",
      "count    73799.000000\n",
      "mean      1003.073212\n",
      "std        235.056937\n",
      "min         56.000000\n",
      "25%        848.000000\n",
      "50%       1071.000000\n",
      "75%       1173.000000\n",
      "max       1491.000000\n",
      "Name: num_of_app, dtype: float64\n"
     ]
    },
    {
     "data": {
      "image/png": "[encoded data removed]",
      "text/plain": [
       "<Figure size 432x288 with 1 Axes>"
      ]
     },
     "metadata": {
      "needs_background": "light"
     },
     "output_type": "display_data"
    }
   ],
   "source": [
    "# посмотрим на распределение логарифмов признаков\n",
    "# рассматриваем для датасета train\n",
    "for col in num_cols:\n",
    "    print('Числовой признак \"{a}\":'.format(a=col)) # выводим название признака\n",
    "    print(data[col][data['train'] == 1].describe())\n",
    "    # выводим распределение заемщиков по признакам\n",
    "    np.log(data[col] + 1).hist(bins=20)\n",
    "    plt.show()"
   ]
  },
  {
   "cell_type": "code",
   "execution_count": 104,
   "metadata": {
    "execution": {
     "iopub.execute_input": "2021-07-07T11:46:14.839792Z",
     "iopub.status.busy": "2021-07-07T11:46:14.839382Z",
     "iopub.status.idle": "2021-07-07T11:46:16.611067Z",
     "shell.execute_reply": "2021-07-07T11:46:16.609417Z",
     "shell.execute_reply.started": "2021-07-07T11:46:14.839754Z"
    }
   },
   "outputs": [
    {
     "name": "stdout",
     "output_type": "stream",
     "text": [
      "Числовой признак \"age\":\n",
      "count    73799.000000\n",
      "mean        39.280641\n",
      "std         11.520378\n",
      "min         21.000000\n",
      "25%         30.000000\n",
      "50%         37.000000\n",
      "75%         48.000000\n",
      "max         72.000000\n",
      "Name: age, dtype: float64\n"
     ]
    },
    {
     "data": {
      "image/png": "[encoded data removed]",
      "text/plain": [
       "<Figure size 432x288 with 1 Axes>"
      ]
     },
     "metadata": {
      "needs_background": "light"
     },
     "output_type": "display_data"
    },
    {
     "name": "stdout",
     "output_type": "stream",
     "text": [
      "Числовой признак \"decline_app_cnt\":\n",
      "count    73799.000000\n",
      "mean         0.275749\n",
      "std          0.804272\n",
      "min          0.000000\n",
      "25%          0.000000\n",
      "50%          0.000000\n",
      "75%          0.000000\n",
      "max         33.000000\n",
      "Name: decline_app_cnt, dtype: float64\n"
     ]
    },
    {
     "data": {
      "image/png": "[encoded data removed]",
      "text/plain": [
       "<Figure size 432x288 with 1 Axes>"
      ]
     },
     "metadata": {
      "needs_background": "light"
     },
     "output_type": "display_data"
    },
    {
     "name": "stdout",
     "output_type": "stream",
     "text": [
      "Числовой признак \"score_bki\":\n",
      "count    73799.000000\n",
      "mean        -1.904724\n",
      "std          0.498231\n",
      "min         -3.624586\n",
      "25%         -2.259534\n",
      "50%         -1.920823\n",
      "75%         -1.569831\n",
      "max          0.199773\n",
      "Name: score_bki, dtype: float64\n"
     ]
    },
    {
     "name": "stderr",
     "output_type": "stream",
     "text": [
      "C:\\Users\\Dimon\\anaconda3\\lib\\site-packages\\pandas\\core\\arraylike.py:358: RuntimeWarning: invalid value encountered in sqrt\n",
      "  result = getattr(ufunc, method)(*inputs, **kwargs)\n"
     ]
    },
    {
     "data": {
      "image/png": "[encoded data removed]",
      "text/plain": [
       "<Figure size 432x288 with 1 Axes>"
      ]
     },
     "metadata": {
      "needs_background": "light"
     },
     "output_type": "display_data"
    },
    {
     "name": "stdout",
     "output_type": "stream",
     "text": [
      "Числовой признак \"bki_request_cnt\":\n",
      "count    73799.000000\n",
      "mean         2.000339\n",
      "std          2.252073\n",
      "min          0.000000\n",
      "25%          0.000000\n",
      "50%          1.000000\n",
      "75%          3.000000\n",
      "max         53.000000\n",
      "Name: bki_request_cnt, dtype: float64\n"
     ]
    },
    {
     "data": {
      "image/png": "[encoded data removed]",
      "text/plain": [
       "<Figure size 432x288 with 1 Axes>"
      ]
     },
     "metadata": {
      "needs_background": "light"
     },
     "output_type": "display_data"
    },
    {
     "name": "stdout",
     "output_type": "stream",
     "text": [
      "Числовой признак \"region_rating\":\n",
      "count    73799.000000\n",
      "mean        56.725701\n",
      "std         13.055717\n",
      "min         20.000000\n",
      "25%         50.000000\n",
      "50%         50.000000\n",
      "75%         60.000000\n",
      "max         80.000000\n",
      "Name: region_rating, dtype: float64\n"
     ]
    },
    {
     "data": {
      "image/png": "[encoded data removed]",
      "text/plain": [
       "<Figure size 432x288 with 1 Axes>"
      ]
     },
     "metadata": {
      "needs_background": "light"
     },
     "output_type": "display_data"
    },
    {
     "name": "stdout",
     "output_type": "stream",
     "text": [
      "Числовой признак \"income\":\n",
      "count      73799.000000\n",
      "mean       41099.775417\n",
      "std        46166.322400\n",
      "min         1000.000000\n",
      "25%        20000.000000\n",
      "50%        30000.000000\n",
      "75%        48000.000000\n",
      "max      1000000.000000\n",
      "Name: income, dtype: float64\n"
     ]
    },
    {
     "data": {
      "image/png": "[encoded data removed]",
      "text/plain": [
       "<Figure size 432x288 with 1 Axes>"
      ]
     },
     "metadata": {
      "needs_background": "light"
     },
     "output_type": "display_data"
    },
    {
     "name": "stdout",
     "output_type": "stream",
     "text": [
      "Числовой признак \"per_of_def\":\n",
      "count    73799.000000\n",
      "mean         0.126994\n",
      "std          0.020828\n",
      "min          0.076596\n",
      "25%          0.115489\n",
      "50%          0.129464\n",
      "75%          0.140306\n",
      "max          0.203252\n",
      "Name: per_of_def, dtype: float64\n"
     ]
    },
    {
     "data": {
      "image/png": "[encoded data removed]",
      "text/plain": [
       "<Figure size 432x288 with 1 Axes>"
      ]
     },
     "metadata": {
      "needs_background": "light"
     },
     "output_type": "display_data"
    },
    {
     "name": "stdout",
     "output_type": "stream",
     "text": [
      "Числовой признак \"num_of_app\":\n",
      "count    73799.000000\n",
      "mean      1003.073212\n",
      "std        235.056937\n",
      "min         56.000000\n",
      "25%        848.000000\n",
      "50%       1071.000000\n",
      "75%       1173.000000\n",
      "max       1491.000000\n",
      "Name: num_of_app, dtype: float64\n"
     ]
    },
    {
     "data": {
      "image/png": "[encoded data removed]",
      "text/plain": [
       "<Figure size 432x288 with 1 Axes>"
      ]
     },
     "metadata": {
      "needs_background": "light"
     },
     "output_type": "display_data"
    }
   ],
   "source": [
    "# посмотрим на распределение квадратных корней из признаков\n",
    "# рассматриваем для датасета train\n",
    "for col in num_cols:\n",
    "    print('Числовой признак \"{a}\":'.format(a=col)) # выводим название признака\n",
    "    print(data[col][data['train'] == 1].describe())\n",
    "    # выводим распределение заемщиков по признакам\n",
    "    np.sqrt(data[col] + 1).hist(bins=20)\n",
    "    plt.show()"
   ]
  },
  {
   "cell_type": "markdown",
   "metadata": {},
   "source": [
    "Видим, что для признаков \"age\", \"bki_request_cnt\", \"income\" распределение логарифов более нормальное.\n",
    "Поэтому заменим значения этих признаков в датасете на логарифмы.\n",
    "Признаки \"decline_app_cnt\", \"score_bki\" и \"region_rating\" оставим без изменений - \n",
    "логарифмирование и извлечение квадратного корня не делают распределение более нормальным."
   ]
  },
  {
   "cell_type": "code",
   "execution_count": 105,
   "metadata": {
    "execution": {
     "iopub.execute_input": "2021-07-07T11:46:16.614625Z",
     "iopub.status.busy": "2021-07-07T11:46:16.614068Z",
     "iopub.status.idle": "2021-07-07T11:46:16.661472Z",
     "shell.execute_reply": "2021-07-07T11:46:16.659365Z",
     "shell.execute_reply.started": "2021-07-07T11:46:16.614565Z"
    }
   },
   "outputs": [],
   "source": [
    "# замену производим для всего датасета data\n",
    "data['age'] = np.log(data['age'] + 1)\n",
    "data['bki_request_cnt'] = np.log(data['bki_request_cnt'] + 1)\n",
    "data['income'] = np.log(data['income'] + 1)"
   ]
  },
  {
   "cell_type": "code",
   "execution_count": 106,
   "metadata": {
    "execution": {
     "iopub.execute_input": "2021-07-07T11:46:16.664103Z",
     "iopub.status.busy": "2021-07-07T11:46:16.663565Z",
     "iopub.status.idle": "2021-07-07T11:46:18.349389Z",
     "shell.execute_reply": "2021-07-07T11:46:18.348483Z",
     "shell.execute_reply.started": "2021-07-07T11:46:16.664039Z"
    }
   },
   "outputs": [
    {
     "name": "stdout",
     "output_type": "stream",
     "text": [
      "Числовой признак \"age\":\n",
      "count    110148.000000\n",
      "mean          3.654546\n",
      "std           0.285054\n",
      "min           3.091042\n",
      "25%           3.433987\n",
      "50%           3.637586\n",
      "75%           3.891820\n",
      "max           4.290459\n",
      "Name: age, dtype: float64\n"
     ]
    },
    {
     "data": {
      "image/png": "[encoded data removed]",
      "text/plain": [
       "<Figure size 432x288 with 1 Axes>"
      ]
     },
     "metadata": {
      "needs_background": "light"
     },
     "output_type": "display_data"
    },
    {
     "name": "stdout",
     "output_type": "stream",
     "text": [
      "Числовой признак \"decline_app_cnt\":\n",
      "count    110148.000000\n",
      "mean          0.273205\n",
      "std           0.799099\n",
      "min           0.000000\n",
      "25%           0.000000\n",
      "50%           0.000000\n",
      "75%           0.000000\n",
      "max          33.000000\n",
      "Name: decline_app_cnt, dtype: float64\n"
     ]
    },
    {
     "data": {
      "image/png": "[encoded data removed]",
      "text/plain": [
       "<Figure size 432x288 with 1 Axes>"
      ]
     },
     "metadata": {
      "needs_background": "light"
     },
     "output_type": "display_data"
    },
    {
     "name": "stdout",
     "output_type": "stream",
     "text": [
      "Числовой признак \"score_bki\":\n",
      "count    110148.000000\n",
      "mean         -1.904535\n",
      "std           0.499397\n",
      "min          -3.624586\n",
      "25%          -2.260434\n",
      "50%          -1.920823\n",
      "75%          -1.567888\n",
      "max           0.199773\n",
      "Name: score_bki, dtype: float64\n"
     ]
    },
    {
     "data": {
      "image/png": "[encoded data removed]",
      "text/plain": [
       "<Figure size 432x288 with 1 Axes>"
      ]
     },
     "metadata": {
      "needs_background": "light"
     },
     "output_type": "display_data"
    },
    {
     "name": "stdout",
     "output_type": "stream",
     "text": [
      "Числовой признак \"bki_request_cnt\":\n",
      "count    110148.000000\n",
      "mean          0.878752\n",
      "std           0.658667\n",
      "min           0.000000\n",
      "25%           0.000000\n",
      "50%           0.693147\n",
      "75%           1.386294\n",
      "max           3.988984\n",
      "Name: bki_request_cnt, dtype: float64\n"
     ]
    },
    {
     "data": {
      "image/png": "[encoded data removed]",
      "text/plain": [
       "<Figure size 432x288 with 1 Axes>"
      ]
     },
     "metadata": {
      "needs_background": "light"
     },
     "output_type": "display_data"
    },
    {
     "name": "stdout",
     "output_type": "stream",
     "text": [
      "Числовой признак \"region_rating\":\n",
      "count    110148.000000\n",
      "mean         56.751189\n",
      "std          13.065923\n",
      "min          20.000000\n",
      "25%          50.000000\n",
      "50%          50.000000\n",
      "75%          60.000000\n",
      "max          80.000000\n",
      "Name: region_rating, dtype: float64\n"
     ]
    },
    {
     "data": {
      "image/png": "[encoded data removed]",
      "text/plain": [
       "<Figure size 432x288 with 1 Axes>"
      ]
     },
     "metadata": {
      "needs_background": "light"
     },
     "output_type": "display_data"
    },
    {
     "name": "stdout",
     "output_type": "stream",
     "text": [
      "Числовой признак \"income\":\n",
      "count    110148.000000\n",
      "mean         10.345792\n",
      "std           0.696636\n",
      "min           6.908755\n",
      "25%           9.903538\n",
      "50%          10.308986\n",
      "75%          10.778977\n",
      "max          13.815512\n",
      "Name: income, dtype: float64\n"
     ]
    },
    {
     "data": {
      "image/png": "[encoded data removed]",
      "text/plain": [
       "<Figure size 432x288 with 1 Axes>"
      ]
     },
     "metadata": {
      "needs_background": "light"
     },
     "output_type": "display_data"
    },
    {
     "name": "stdout",
     "output_type": "stream",
     "text": [
      "Числовой признак \"per_of_def\":\n",
      "count    110148.000000\n",
      "mean          0.127022\n",
      "std           0.020775\n",
      "min           0.076596\n",
      "25%           0.115489\n",
      "50%           0.129464\n",
      "75%           0.140306\n",
      "max           0.203252\n",
      "Name: per_of_def, dtype: float64\n"
     ]
    },
    {
     "data": {
      "image/png": "[encoded data removed]",
      "text/plain": [
       "<Figure size 432x288 with 1 Axes>"
      ]
     },
     "metadata": {
      "needs_background": "light"
     },
     "output_type": "display_data"
    },
    {
     "name": "stdout",
     "output_type": "stream",
     "text": [
      "Числовой признак \"num_of_app\":\n",
      "count    110148.000000\n",
      "mean       1002.761267\n",
      "std         234.959584\n",
      "min          56.000000\n",
      "25%         848.000000\n",
      "50%        1071.000000\n",
      "75%        1173.000000\n",
      "max        1491.000000\n",
      "Name: num_of_app, dtype: float64\n"
     ]
    },
    {
     "data": {
      "image/png": "[encoded data removed]",
      "text/plain": [
       "<Figure size 432x288 with 1 Axes>"
      ]
     },
     "metadata": {
      "needs_background": "light"
     },
     "output_type": "display_data"
    }
   ],
   "source": [
    "# посмотрим на распределения получишихся признаков\n",
    "# смотрим для всего датасета data\n",
    "for col in num_cols:\n",
    "    print('Числовой признак \"{a}\":'.format(a=col)) # выводим название признака\n",
    "    print(data[col].describe())\n",
    "    # выводим распределение заемщиков по признакам\n",
    "    data[col].hist(bins=20)\n",
    "    plt.show()"
   ]
  },
  {
   "cell_type": "code",
   "execution_count": 107,
   "metadata": {
    "execution": {
     "iopub.execute_input": "2021-07-07T11:46:18.351558Z",
     "iopub.status.busy": "2021-07-07T11:46:18.351232Z",
     "iopub.status.idle": "2021-07-07T11:46:18.432799Z",
     "shell.execute_reply": "2021-07-07T11:46:18.431895Z",
     "shell.execute_reply.started": "2021-07-07T11:46:18.351524Z"
    }
   },
   "outputs": [
    {
     "name": "stdout",
     "output_type": "stream",
     "text": [
      "Числовой признак \"age\":\n",
      "Количество выбросов:  0\n",
      "\n",
      "\n",
      "Числовой признак \"decline_app_cnt\":\n",
      "Количество выбросов:  18677\n",
      "\n",
      "\n",
      "Числовой признак \"score_bki\":\n",
      "Количество выбросов:  518\n",
      "\n",
      "\n",
      "Числовой признак \"bki_request_cnt\":\n",
      "Количество выбросов:  15\n",
      "\n",
      "\n",
      "Числовой признак \"region_rating\":\n",
      "Количество выбросов:  17917\n",
      "\n",
      "\n",
      "Числовой признак \"income\":\n",
      "Количество выбросов:  2609\n",
      "\n",
      "\n",
      "Числовой признак \"per_of_def\":\n",
      "Количество выбросов:  1564\n",
      "\n",
      "\n",
      "Числовой признак \"num_of_app\":\n",
      "Количество выбросов:  1281\n",
      "\n",
      "\n"
     ]
    }
   ],
   "source": [
    "# посчитаем выбросы для каждого признака\n",
    "# считаем для всего датасета data\n",
    "for col in num_cols:\n",
    "    print('Числовой признак \"{a}\":'.format(a=col)) # выводим название признака\n",
    "    Q1 = data[col].quantile(0.25)\n",
    "    Q3 = data[col].quantile(0.75)\n",
    "    IQR = Q3 - Q1\n",
    "    left = Q1 - 1.5*IQR\n",
    "    right = Q3 + 1.5*IQR\n",
    "    print('Количество выбросов: ', data[col][(data[col] < left) | (data[col] > right)].count())\n",
    "    print('\\n')"
   ]
  },
  {
   "cell_type": "markdown",
   "metadata": {},
   "source": [
    "Выводы по рассмотрению гистограмм и определению  выбросов:\n",
    "на самом деле, выбросы, которые мы определили, таковыми могут не являться - \n",
    "по физическому смыслу признаки могут принимать такие значения.\n",
    "На данном этапе удалять выбросы из датасета не будем."
   ]
  },
  {
   "cell_type": "markdown",
   "metadata": {},
   "source": [
    "# **Оценка значимости признаков**"
   ]
  },
  {
   "cell_type": "markdown",
   "metadata": {},
   "source": [
    "**Преобразования бинарных признаков**"
   ]
  },
  {
   "cell_type": "code",
   "execution_count": 108,
   "metadata": {
    "execution": {
     "iopub.execute_input": "2021-07-07T11:46:18.434788Z",
     "iopub.status.busy": "2021-07-07T11:46:18.434437Z",
     "iopub.status.idle": "2021-07-07T11:46:18.462548Z",
     "shell.execute_reply": "2021-07-07T11:46:18.461164Z",
     "shell.execute_reply.started": "2021-07-07T11:46:18.434752Z"
    }
   },
   "outputs": [
    {
     "data": {
      "text/html": [
       "<div>\n",
       "<style scoped>\n",
       "    .dataframe tbody tr th:only-of-type {\n",
       "        vertical-align: middle;\n",
       "    }\n",
       "\n",
       "    .dataframe tbody tr th {\n",
       "        vertical-align: top;\n",
       "    }\n",
       "\n",
       "    .dataframe thead th {\n",
       "        text-align: right;\n",
       "    }\n",
       "</style>\n",
       "<table border=\"1\" class=\"dataframe\">\n",
       "  <thead>\n",
       "    <tr style=\"text-align: right;\">\n",
       "      <th></th>\n",
       "      <th>sex</th>\n",
       "      <th>car</th>\n",
       "      <th>car_type</th>\n",
       "      <th>good_work</th>\n",
       "      <th>foreign_passport</th>\n",
       "    </tr>\n",
       "  </thead>\n",
       "  <tbody>\n",
       "    <tr>\n",
       "      <th>0</th>\n",
       "      <td>M</td>\n",
       "      <td>Y</td>\n",
       "      <td>Y</td>\n",
       "      <td>0</td>\n",
       "      <td>N</td>\n",
       "    </tr>\n",
       "    <tr>\n",
       "      <th>1</th>\n",
       "      <td>F</td>\n",
       "      <td>N</td>\n",
       "      <td>N</td>\n",
       "      <td>0</td>\n",
       "      <td>N</td>\n",
       "    </tr>\n",
       "    <tr>\n",
       "      <th>2</th>\n",
       "      <td>M</td>\n",
       "      <td>Y</td>\n",
       "      <td>N</td>\n",
       "      <td>0</td>\n",
       "      <td>Y</td>\n",
       "    </tr>\n",
       "    <tr>\n",
       "      <th>3</th>\n",
       "      <td>F</td>\n",
       "      <td>N</td>\n",
       "      <td>N</td>\n",
       "      <td>0</td>\n",
       "      <td>N</td>\n",
       "    </tr>\n",
       "    <tr>\n",
       "      <th>4</th>\n",
       "      <td>M</td>\n",
       "      <td>N</td>\n",
       "      <td>N</td>\n",
       "      <td>1</td>\n",
       "      <td>Y</td>\n",
       "    </tr>\n",
       "    <tr>\n",
       "      <th>...</th>\n",
       "      <td>...</td>\n",
       "      <td>...</td>\n",
       "      <td>...</td>\n",
       "      <td>...</td>\n",
       "      <td>...</td>\n",
       "    </tr>\n",
       "    <tr>\n",
       "      <th>110143</th>\n",
       "      <td>F</td>\n",
       "      <td>N</td>\n",
       "      <td>N</td>\n",
       "      <td>0</td>\n",
       "      <td>N</td>\n",
       "    </tr>\n",
       "    <tr>\n",
       "      <th>110144</th>\n",
       "      <td>F</td>\n",
       "      <td>Y</td>\n",
       "      <td>Y</td>\n",
       "      <td>0</td>\n",
       "      <td>N</td>\n",
       "    </tr>\n",
       "    <tr>\n",
       "      <th>110145</th>\n",
       "      <td>M</td>\n",
       "      <td>N</td>\n",
       "      <td>N</td>\n",
       "      <td>0</td>\n",
       "      <td>N</td>\n",
       "    </tr>\n",
       "    <tr>\n",
       "      <th>110146</th>\n",
       "      <td>F</td>\n",
       "      <td>N</td>\n",
       "      <td>N</td>\n",
       "      <td>0</td>\n",
       "      <td>N</td>\n",
       "    </tr>\n",
       "    <tr>\n",
       "      <th>110147</th>\n",
       "      <td>M</td>\n",
       "      <td>N</td>\n",
       "      <td>N</td>\n",
       "      <td>0</td>\n",
       "      <td>N</td>\n",
       "    </tr>\n",
       "  </tbody>\n",
       "</table>\n",
       "<p>110148 rows × 5 columns</p>\n",
       "</div>"
      ],
      "text/plain": [
       "       sex car car_type  good_work foreign_passport\n",
       "0        M   Y        Y          0                N\n",
       "1        F   N        N          0                N\n",
       "2        M   Y        N          0                Y\n",
       "3        F   N        N          0                N\n",
       "4        M   N        N          1                Y\n",
       "...     ..  ..      ...        ...              ...\n",
       "110143   F   N        N          0                N\n",
       "110144   F   Y        Y          0                N\n",
       "110145   M   N        N          0                N\n",
       "110146   F   N        N          0                N\n",
       "110147   M   N        N          0                N\n",
       "\n",
       "[110148 rows x 5 columns]"
      ]
     },
     "execution_count": 108,
     "metadata": {},
     "output_type": "execute_result"
    }
   ],
   "source": [
    "# посмотрим детальнее, какие данные хранятся в бинарных признаках\n",
    "data[bin_cols]"
   ]
  },
  {
   "cell_type": "code",
   "execution_count": 109,
   "metadata": {
    "execution": {
     "iopub.execute_input": "2021-07-07T11:46:18.464662Z",
     "iopub.status.busy": "2021-07-07T11:46:18.464307Z",
     "iopub.status.idle": "2021-07-07T11:46:18.628631Z",
     "shell.execute_reply": "2021-07-07T11:46:18.627529Z",
     "shell.execute_reply.started": "2021-07-07T11:46:18.464615Z"
    }
   },
   "outputs": [],
   "source": [
    "# преобразуем даные с помощью метода fit класса LabelEncoder\n",
    "# работаем со всем датасетом data\n",
    "label_encoder = LabelEncoder()\n",
    "for col in bin_cols:\n",
    "    data[col] = label_encoder.fit_transform(data[col])"
   ]
  },
  {
   "cell_type": "code",
   "execution_count": 110,
   "metadata": {
    "execution": {
     "iopub.execute_input": "2021-07-07T11:46:18.630556Z",
     "iopub.status.busy": "2021-07-07T11:46:18.630063Z",
     "iopub.status.idle": "2021-07-07T11:46:18.658627Z",
     "shell.execute_reply": "2021-07-07T11:46:18.657191Z",
     "shell.execute_reply.started": "2021-07-07T11:46:18.630511Z"
    }
   },
   "outputs": [
    {
     "data": {
      "text/html": [
       "<div>\n",
       "<style scoped>\n",
       "    .dataframe tbody tr th:only-of-type {\n",
       "        vertical-align: middle;\n",
       "    }\n",
       "\n",
       "    .dataframe tbody tr th {\n",
       "        vertical-align: top;\n",
       "    }\n",
       "\n",
       "    .dataframe thead th {\n",
       "        text-align: right;\n",
       "    }\n",
       "</style>\n",
       "<table border=\"1\" class=\"dataframe\">\n",
       "  <thead>\n",
       "    <tr style=\"text-align: right;\">\n",
       "      <th></th>\n",
       "      <th>sex</th>\n",
       "      <th>car</th>\n",
       "      <th>car_type</th>\n",
       "      <th>good_work</th>\n",
       "      <th>foreign_passport</th>\n",
       "    </tr>\n",
       "  </thead>\n",
       "  <tbody>\n",
       "    <tr>\n",
       "      <th>0</th>\n",
       "      <td>1</td>\n",
       "      <td>1</td>\n",
       "      <td>1</td>\n",
       "      <td>0</td>\n",
       "      <td>0</td>\n",
       "    </tr>\n",
       "    <tr>\n",
       "      <th>1</th>\n",
       "      <td>0</td>\n",
       "      <td>0</td>\n",
       "      <td>0</td>\n",
       "      <td>0</td>\n",
       "      <td>0</td>\n",
       "    </tr>\n",
       "    <tr>\n",
       "      <th>2</th>\n",
       "      <td>1</td>\n",
       "      <td>1</td>\n",
       "      <td>0</td>\n",
       "      <td>0</td>\n",
       "      <td>1</td>\n",
       "    </tr>\n",
       "    <tr>\n",
       "      <th>3</th>\n",
       "      <td>0</td>\n",
       "      <td>0</td>\n",
       "      <td>0</td>\n",
       "      <td>0</td>\n",
       "      <td>0</td>\n",
       "    </tr>\n",
       "    <tr>\n",
       "      <th>4</th>\n",
       "      <td>1</td>\n",
       "      <td>0</td>\n",
       "      <td>0</td>\n",
       "      <td>1</td>\n",
       "      <td>1</td>\n",
       "    </tr>\n",
       "  </tbody>\n",
       "</table>\n",
       "</div>"
      ],
      "text/plain": [
       "   sex  car  car_type  good_work  foreign_passport\n",
       "0    1    1         1          0                 0\n",
       "1    0    0         0          0                 0\n",
       "2    1    1         0          0                 1\n",
       "3    0    0         0          0                 0\n",
       "4    1    0         0          1                 1"
      ]
     },
     "execution_count": 110,
     "metadata": {},
     "output_type": "execute_result"
    }
   ],
   "source": [
    "# проверим\n",
    "data[bin_cols].head()"
   ]
  },
  {
   "cell_type": "markdown",
   "metadata": {},
   "source": [
    "**Преобразования категориальных признаков**"
   ]
  },
  {
   "cell_type": "code",
   "execution_count": 111,
   "metadata": {
    "execution": {
     "iopub.execute_input": "2021-07-07T11:46:18.661178Z",
     "iopub.status.busy": "2021-07-07T11:46:18.660725Z",
     "iopub.status.idle": "2021-07-07T11:46:18.860186Z",
     "shell.execute_reply": "2021-07-07T11:46:18.859264Z",
     "shell.execute_reply.started": "2021-07-07T11:46:18.661133Z"
    }
   },
   "outputs": [
    {
     "data": {
      "text/html": [
       "<div>\n",
       "<style scoped>\n",
       "    .dataframe tbody tr th:only-of-type {\n",
       "        vertical-align: middle;\n",
       "    }\n",
       "\n",
       "    .dataframe tbody tr th {\n",
       "        vertical-align: top;\n",
       "    }\n",
       "\n",
       "    .dataframe thead th {\n",
       "        text-align: right;\n",
       "    }\n",
       "</style>\n",
       "<table border=\"1\" class=\"dataframe\">\n",
       "  <thead>\n",
       "    <tr style=\"text-align: right;\">\n",
       "      <th></th>\n",
       "      <th>education</th>\n",
       "      <th>home_address</th>\n",
       "      <th>work_address</th>\n",
       "      <th>sna</th>\n",
       "      <th>first_time</th>\n",
       "    </tr>\n",
       "  </thead>\n",
       "  <tbody>\n",
       "    <tr>\n",
       "      <th>0</th>\n",
       "      <td>SCH</td>\n",
       "      <td>1</td>\n",
       "      <td>2</td>\n",
       "      <td>4</td>\n",
       "      <td>1</td>\n",
       "    </tr>\n",
       "    <tr>\n",
       "      <th>1</th>\n",
       "      <td>SCH</td>\n",
       "      <td>2</td>\n",
       "      <td>3</td>\n",
       "      <td>4</td>\n",
       "      <td>1</td>\n",
       "    </tr>\n",
       "    <tr>\n",
       "      <th>2</th>\n",
       "      <td>SCH</td>\n",
       "      <td>1</td>\n",
       "      <td>2</td>\n",
       "      <td>1</td>\n",
       "      <td>4</td>\n",
       "    </tr>\n",
       "    <tr>\n",
       "      <th>3</th>\n",
       "      <td>SCH</td>\n",
       "      <td>2</td>\n",
       "      <td>3</td>\n",
       "      <td>1</td>\n",
       "      <td>3</td>\n",
       "    </tr>\n",
       "    <tr>\n",
       "      <th>4</th>\n",
       "      <td>GRD</td>\n",
       "      <td>2</td>\n",
       "      <td>3</td>\n",
       "      <td>1</td>\n",
       "      <td>4</td>\n",
       "    </tr>\n",
       "    <tr>\n",
       "      <th>...</th>\n",
       "      <td>...</td>\n",
       "      <td>...</td>\n",
       "      <td>...</td>\n",
       "      <td>...</td>\n",
       "      <td>...</td>\n",
       "    </tr>\n",
       "    <tr>\n",
       "      <th>110143</th>\n",
       "      <td>SCH</td>\n",
       "      <td>2</td>\n",
       "      <td>3</td>\n",
       "      <td>4</td>\n",
       "      <td>1</td>\n",
       "    </tr>\n",
       "    <tr>\n",
       "      <th>110144</th>\n",
       "      <td>GRD</td>\n",
       "      <td>1</td>\n",
       "      <td>2</td>\n",
       "      <td>1</td>\n",
       "      <td>4</td>\n",
       "    </tr>\n",
       "    <tr>\n",
       "      <th>110145</th>\n",
       "      <td>GRD</td>\n",
       "      <td>1</td>\n",
       "      <td>2</td>\n",
       "      <td>4</td>\n",
       "      <td>2</td>\n",
       "    </tr>\n",
       "    <tr>\n",
       "      <th>110146</th>\n",
       "      <td>UGR</td>\n",
       "      <td>2</td>\n",
       "      <td>3</td>\n",
       "      <td>1</td>\n",
       "      <td>1</td>\n",
       "    </tr>\n",
       "    <tr>\n",
       "      <th>110147</th>\n",
       "      <td>SCH</td>\n",
       "      <td>1</td>\n",
       "      <td>2</td>\n",
       "      <td>4</td>\n",
       "      <td>2</td>\n",
       "    </tr>\n",
       "  </tbody>\n",
       "</table>\n",
       "<p>110148 rows × 5 columns</p>\n",
       "</div>"
      ],
      "text/plain": [
       "       education  home_address  work_address  sna  first_time\n",
       "0            SCH             1             2    4           1\n",
       "1            SCH             2             3    4           1\n",
       "2            SCH             1             2    1           4\n",
       "3            SCH             2             3    1           3\n",
       "4            GRD             2             3    1           4\n",
       "...          ...           ...           ...  ...         ...\n",
       "110143       SCH             2             3    4           1\n",
       "110144       GRD             1             2    1           4\n",
       "110145       GRD             1             2    4           2\n",
       "110146       UGR             2             3    1           1\n",
       "110147       SCH             1             2    4           2\n",
       "\n",
       "[110148 rows x 5 columns]"
      ]
     },
     "execution_count": 111,
     "metadata": {},
     "output_type": "execute_result"
    }
   ],
   "source": [
    "# посмотрим детальнее, какие данные хранятся в категориальных признаках\n",
    "data[cat_cols]"
   ]
  },
  {
   "cell_type": "code",
   "execution_count": 112,
   "metadata": {
    "execution": {
     "iopub.execute_input": "2021-07-07T11:46:18.863202Z",
     "iopub.status.busy": "2021-07-07T11:46:18.862816Z",
     "iopub.status.idle": "2021-07-07T11:46:18.909798Z",
     "shell.execute_reply": "2021-07-07T11:46:18.908739Z",
     "shell.execute_reply.started": "2021-07-07T11:46:18.863169Z"
    }
   },
   "outputs": [],
   "source": [
    "# преобразуем признак \"education\"\n",
    "# работаем со всем датасетом data\n",
    "label_encoder = LabelEncoder()\n",
    "data['education'] = label_encoder.fit_transform(data['education'])"
   ]
  },
  {
   "cell_type": "code",
   "execution_count": 113,
   "metadata": {
    "execution": {
     "iopub.execute_input": "2021-07-07T11:46:18.911317Z",
     "iopub.status.busy": "2021-07-07T11:46:18.910965Z",
     "iopub.status.idle": "2021-07-07T11:46:18.955535Z",
     "shell.execute_reply": "2021-07-07T11:46:18.954248Z",
     "shell.execute_reply.started": "2021-07-07T11:46:18.911273Z"
    }
   },
   "outputs": [
    {
     "data": {
      "text/html": [
       "<div>\n",
       "<style scoped>\n",
       "    .dataframe tbody tr th:only-of-type {\n",
       "        vertical-align: middle;\n",
       "    }\n",
       "\n",
       "    .dataframe tbody tr th {\n",
       "        vertical-align: top;\n",
       "    }\n",
       "\n",
       "    .dataframe thead th {\n",
       "        text-align: right;\n",
       "    }\n",
       "</style>\n",
       "<table border=\"1\" class=\"dataframe\">\n",
       "  <thead>\n",
       "    <tr style=\"text-align: right;\">\n",
       "      <th></th>\n",
       "      <th>education</th>\n",
       "      <th>home_address</th>\n",
       "      <th>work_address</th>\n",
       "      <th>sna</th>\n",
       "      <th>first_time</th>\n",
       "    </tr>\n",
       "  </thead>\n",
       "  <tbody>\n",
       "    <tr>\n",
       "      <th>0</th>\n",
       "      <td>3</td>\n",
       "      <td>1</td>\n",
       "      <td>2</td>\n",
       "      <td>4</td>\n",
       "      <td>1</td>\n",
       "    </tr>\n",
       "    <tr>\n",
       "      <th>1</th>\n",
       "      <td>3</td>\n",
       "      <td>2</td>\n",
       "      <td>3</td>\n",
       "      <td>4</td>\n",
       "      <td>1</td>\n",
       "    </tr>\n",
       "    <tr>\n",
       "      <th>2</th>\n",
       "      <td>3</td>\n",
       "      <td>1</td>\n",
       "      <td>2</td>\n",
       "      <td>1</td>\n",
       "      <td>4</td>\n",
       "    </tr>\n",
       "    <tr>\n",
       "      <th>3</th>\n",
       "      <td>3</td>\n",
       "      <td>2</td>\n",
       "      <td>3</td>\n",
       "      <td>1</td>\n",
       "      <td>3</td>\n",
       "    </tr>\n",
       "    <tr>\n",
       "      <th>4</th>\n",
       "      <td>1</td>\n",
       "      <td>2</td>\n",
       "      <td>3</td>\n",
       "      <td>1</td>\n",
       "      <td>4</td>\n",
       "    </tr>\n",
       "    <tr>\n",
       "      <th>...</th>\n",
       "      <td>...</td>\n",
       "      <td>...</td>\n",
       "      <td>...</td>\n",
       "      <td>...</td>\n",
       "      <td>...</td>\n",
       "    </tr>\n",
       "    <tr>\n",
       "      <th>110143</th>\n",
       "      <td>3</td>\n",
       "      <td>2</td>\n",
       "      <td>3</td>\n",
       "      <td>4</td>\n",
       "      <td>1</td>\n",
       "    </tr>\n",
       "    <tr>\n",
       "      <th>110144</th>\n",
       "      <td>1</td>\n",
       "      <td>1</td>\n",
       "      <td>2</td>\n",
       "      <td>1</td>\n",
       "      <td>4</td>\n",
       "    </tr>\n",
       "    <tr>\n",
       "      <th>110145</th>\n",
       "      <td>1</td>\n",
       "      <td>1</td>\n",
       "      <td>2</td>\n",
       "      <td>4</td>\n",
       "      <td>2</td>\n",
       "    </tr>\n",
       "    <tr>\n",
       "      <th>110146</th>\n",
       "      <td>4</td>\n",
       "      <td>2</td>\n",
       "      <td>3</td>\n",
       "      <td>1</td>\n",
       "      <td>1</td>\n",
       "    </tr>\n",
       "    <tr>\n",
       "      <th>110147</th>\n",
       "      <td>3</td>\n",
       "      <td>1</td>\n",
       "      <td>2</td>\n",
       "      <td>4</td>\n",
       "      <td>2</td>\n",
       "    </tr>\n",
       "  </tbody>\n",
       "</table>\n",
       "<p>110148 rows × 5 columns</p>\n",
       "</div>"
      ],
      "text/plain": [
       "        education  home_address  work_address  sna  first_time\n",
       "0               3             1             2    4           1\n",
       "1               3             2             3    4           1\n",
       "2               3             1             2    1           4\n",
       "3               3             2             3    1           3\n",
       "4               1             2             3    1           4\n",
       "...           ...           ...           ...  ...         ...\n",
       "110143          3             2             3    4           1\n",
       "110144          1             1             2    1           4\n",
       "110145          1             1             2    4           2\n",
       "110146          4             2             3    1           1\n",
       "110147          3             1             2    4           2\n",
       "\n",
       "[110148 rows x 5 columns]"
      ]
     },
     "execution_count": 113,
     "metadata": {},
     "output_type": "execute_result"
    }
   ],
   "source": [
    "# проверим преобразования\n",
    "data[cat_cols]"
   ]
  },
  {
   "cell_type": "markdown",
   "metadata": {},
   "source": [
    "**Оценка корреляций**"
   ]
  },
  {
   "cell_type": "code",
   "execution_count": 114,
   "metadata": {
    "execution": {
     "iopub.execute_input": "2021-07-07T11:46:18.958496Z",
     "iopub.status.busy": "2021-07-07T11:46:18.958015Z",
     "iopub.status.idle": "2021-07-07T11:46:19.256147Z",
     "shell.execute_reply": "2021-07-07T11:46:19.254710Z",
     "shell.execute_reply.started": "2021-07-07T11:46:18.958446Z"
    }
   },
   "outputs": [
    {
     "data": {
      "text/plain": [
       "<AxesSubplot:>"
      ]
     },
     "execution_count": 114,
     "metadata": {},
     "output_type": "execute_result"
    },
    {
     "data": {
      "image/png": "[encoded data removed]",
      "text/plain": [
       "<Figure size 432x288 with 2 Axes>"
      ]
     },
     "metadata": {
      "needs_background": "light"
     },
     "output_type": "display_data"
    }
   ],
   "source": [
    "# оценим корреляцию с помощью матрицы корреляции \n",
    "sns.heatmap(data[num_cols].corr().abs(), vmin=0, vmax=1)"
   ]
  },
  {
   "cell_type": "markdown",
   "metadata": {},
   "source": [
    "Выводы:\n",
    "* 1.Признаки слабо коррелированы между собой\n",
    "* 2.Все признаки будем использовать в модели"
   ]
  },
  {
   "cell_type": "code",
   "execution_count": 115,
   "metadata": {
    "execution": {
     "iopub.execute_input": "2021-07-07T11:46:19.258143Z",
     "iopub.status.busy": "2021-07-07T11:46:19.257715Z",
     "iopub.status.idle": "2021-07-07T11:46:19.667187Z",
     "shell.execute_reply": "2021-07-07T11:46:19.665508Z",
     "shell.execute_reply.started": "2021-07-07T11:46:19.258105Z"
    }
   },
   "outputs": [
    {
     "data": {
      "text/plain": [
       "<AxesSubplot:>"
      ]
     },
     "execution_count": 115,
     "metadata": {},
     "output_type": "execute_result"
    },
    {
     "data": {
      "image/png": "[encoded data removed]",
      "text/plain": [
       "<Figure size 432x288 with 2 Axes>"
      ]
     },
     "metadata": {
      "needs_background": "light"
     },
     "output_type": "display_data"
    }
   ],
   "source": [
    "# оценим корреляцию Спирмана для нечисловых признаков\n",
    "sns.heatmap(data[bin_cols + cat_cols].corr(method='spearman').abs(), vmin=0, vmax=1)"
   ]
  },
  {
   "cell_type": "markdown",
   "metadata": {},
   "source": [
    "Выводы:\n",
    "* 1.Высокая коррекляция car и car_type. В модели будем использовать car_type.\n",
    "* 2.Высокая корреляция home_address и work_address. В модели будем использовать home_address."
   ]
  },
  {
   "cell_type": "code",
   "execution_count": 116,
   "metadata": {
    "execution": {
     "iopub.execute_input": "2021-07-07T11:46:19.670160Z",
     "iopub.status.busy": "2021-07-07T11:46:19.669610Z",
     "iopub.status.idle": "2021-07-07T11:46:19.677358Z",
     "shell.execute_reply": "2021-07-07T11:46:19.675959Z",
     "shell.execute_reply.started": "2021-07-07T11:46:19.670109Z"
    }
   },
   "outputs": [],
   "source": [
    "# оставим бинарные и категориальные признаки, которые будут использоваться в модели\n",
    "bin_cols = ['sex', 'car_type', 'good_work', 'foreign_passport']\n",
    "cat_cols = ['education', 'home_address', 'sna', 'first_time']"
   ]
  },
  {
   "cell_type": "markdown",
   "metadata": {},
   "source": [
    "**Оценка значимости числовых признаков**"
   ]
  },
  {
   "cell_type": "code",
   "execution_count": 117,
   "metadata": {
    "execution": {
     "iopub.execute_input": "2021-07-07T11:46:19.679317Z",
     "iopub.status.busy": "2021-07-07T11:46:19.678931Z",
     "iopub.status.idle": "2021-07-07T11:46:19.870436Z",
     "shell.execute_reply": "2021-07-07T11:46:19.868997Z",
     "shell.execute_reply.started": "2021-07-07T11:46:19.679282Z"
    }
   },
   "outputs": [
    {
     "data": {
      "text/plain": [
       "<AxesSubplot:>"
      ]
     },
     "execution_count": 117,
     "metadata": {},
     "output_type": "execute_result"
    },
    {
     "data": {
      "image/png": "[encoded data removed]",
      "text/plain": [
       "<Figure size 432x288 with 1 Axes>"
      ]
     },
     "metadata": {
      "needs_background": "light"
     },
     "output_type": "display_data"
    }
   ],
   "source": [
    "# проверяем значимость признаков\n",
    "# работаем с записями из датасета train\n",
    "imp_num = pd.Series(f_classif(data[data['train'] == 1][num_cols],\n",
    "                              data[data['train'] == 1]['default'])[0], index=num_cols)\n",
    "imp_num.sort_values(inplace=True)\n",
    "imp_num.plot(kind='barh')"
   ]
  },
  {
   "cell_type": "markdown",
   "metadata": {},
   "source": [
    "Как и ожидалось, самый важный признак - 'score_bki'.\n"
   ]
  },
  {
   "cell_type": "markdown",
   "metadata": {},
   "source": [
    "**Оценка значимости категориальных и бинарных признаков**"
   ]
  },
  {
   "cell_type": "code",
   "execution_count": 118,
   "metadata": {
    "execution": {
     "iopub.execute_input": "2021-07-07T11:46:19.872687Z",
     "iopub.status.busy": "2021-07-07T11:46:19.872293Z",
     "iopub.status.idle": "2021-07-07T11:46:20.154271Z",
     "shell.execute_reply": "2021-07-07T11:46:20.152859Z",
     "shell.execute_reply.started": "2021-07-07T11:46:19.872651Z"
    }
   },
   "outputs": [
    {
     "data": {
      "text/plain": [
       "<AxesSubplot:>"
      ]
     },
     "execution_count": 118,
     "metadata": {},
     "output_type": "execute_result"
    },
    {
     "data": {
      "image/png": "[encoded data removed]",
      "text/plain": [
       "<Figure size 432x288 with 1 Axes>"
      ]
     },
     "metadata": {
      "needs_background": "light"
     },
     "output_type": "display_data"
    }
   ],
   "source": [
    "# проверяем значимость признаков\n",
    "# работаем с записями из датасета train\n",
    "imp_cat = Series(mutual_info_classif(data[data['train'] == 1][bin_cols + cat_cols], data[data['train'] == 1]['default'],\n",
    "                                     discrete_features = True), index = bin_cols + cat_cols)\n",
    "imp_cat.sort_values(inplace = True)\n",
    "imp_cat.plot(kind = 'barh')"
   ]
  },
  {
   "cell_type": "markdown",
   "metadata": {},
   "source": [
    "Самый важный признак - 'sna'. Наименее важный - 'sex' не важен. Все признаки будем использовать в модели."
   ]
  },
  {
   "cell_type": "markdown",
   "metadata": {},
   "source": [
    "# **Строим модель**"
   ]
  },
  {
   "cell_type": "code",
   "execution_count": 119,
   "metadata": {
    "execution": {
     "iopub.execute_input": "2021-07-07T11:46:20.157551Z",
     "iopub.status.busy": "2021-07-07T11:46:20.157017Z",
     "iopub.status.idle": "2021-07-07T11:46:20.176401Z",
     "shell.execute_reply": "2021-07-07T11:46:20.175307Z",
     "shell.execute_reply.started": "2021-07-07T11:46:20.157499Z"
    }
   },
   "outputs": [],
   "source": [
    "# выделяем тренировочный датасет из датасета data\n",
    "data_train = data[data['train'] == 1]\n",
    "data_train = data_train.drop(['client_id', 'app_date', 'train'], axis=1)"
   ]
  },
  {
   "cell_type": "code",
   "execution_count": 120,
   "metadata": {
    "execution": {
     "iopub.execute_input": "2021-07-07T11:46:20.178000Z",
     "iopub.status.busy": "2021-07-07T11:46:20.177633Z",
     "iopub.status.idle": "2021-07-07T11:46:20.200248Z",
     "shell.execute_reply": "2021-07-07T11:46:20.198817Z",
     "shell.execute_reply.started": "2021-07-07T11:46:20.177956Z"
    }
   },
   "outputs": [
    {
     "data": {
      "text/html": [
       "<div>\n",
       "<style scoped>\n",
       "    .dataframe tbody tr th:only-of-type {\n",
       "        vertical-align: middle;\n",
       "    }\n",
       "\n",
       "    .dataframe tbody tr th {\n",
       "        vertical-align: top;\n",
       "    }\n",
       "\n",
       "    .dataframe thead th {\n",
       "        text-align: right;\n",
       "    }\n",
       "</style>\n",
       "<table border=\"1\" class=\"dataframe\">\n",
       "  <thead>\n",
       "    <tr style=\"text-align: right;\">\n",
       "      <th></th>\n",
       "      <th>education</th>\n",
       "      <th>sex</th>\n",
       "      <th>age</th>\n",
       "      <th>car</th>\n",
       "      <th>car_type</th>\n",
       "      <th>decline_app_cnt</th>\n",
       "      <th>good_work</th>\n",
       "      <th>score_bki</th>\n",
       "      <th>bki_request_cnt</th>\n",
       "      <th>region_rating</th>\n",
       "      <th>home_address</th>\n",
       "      <th>work_address</th>\n",
       "      <th>income</th>\n",
       "      <th>sna</th>\n",
       "      <th>first_time</th>\n",
       "      <th>foreign_passport</th>\n",
       "      <th>default</th>\n",
       "      <th>num_of_app</th>\n",
       "      <th>per_of_def</th>\n",
       "    </tr>\n",
       "  </thead>\n",
       "  <tbody>\n",
       "    <tr>\n",
       "      <th>0</th>\n",
       "      <td>3</td>\n",
       "      <td>1</td>\n",
       "      <td>4.143135</td>\n",
       "      <td>1</td>\n",
       "      <td>1</td>\n",
       "      <td>0</td>\n",
       "      <td>0</td>\n",
       "      <td>-2.008753</td>\n",
       "      <td>0.693147</td>\n",
       "      <td>50</td>\n",
       "      <td>1</td>\n",
       "      <td>2</td>\n",
       "      <td>9.798183</td>\n",
       "      <td>4</td>\n",
       "      <td>1</td>\n",
       "      <td>0</td>\n",
       "      <td>0</td>\n",
       "      <td>794</td>\n",
       "      <td>0.116236</td>\n",
       "    </tr>\n",
       "    <tr>\n",
       "      <th>1</th>\n",
       "      <td>3</td>\n",
       "      <td>0</td>\n",
       "      <td>4.094345</td>\n",
       "      <td>0</td>\n",
       "      <td>0</td>\n",
       "      <td>0</td>\n",
       "      <td>0</td>\n",
       "      <td>-1.532276</td>\n",
       "      <td>1.386294</td>\n",
       "      <td>50</td>\n",
       "      <td>2</td>\n",
       "      <td>3</td>\n",
       "      <td>9.852247</td>\n",
       "      <td>4</td>\n",
       "      <td>1</td>\n",
       "      <td>0</td>\n",
       "      <td>0</td>\n",
       "      <td>1110</td>\n",
       "      <td>0.119403</td>\n",
       "    </tr>\n",
       "    <tr>\n",
       "      <th>2</th>\n",
       "      <td>3</td>\n",
       "      <td>1</td>\n",
       "      <td>3.258097</td>\n",
       "      <td>1</td>\n",
       "      <td>0</td>\n",
       "      <td>2</td>\n",
       "      <td>0</td>\n",
       "      <td>-1.408142</td>\n",
       "      <td>0.693147</td>\n",
       "      <td>80</td>\n",
       "      <td>1</td>\n",
       "      <td>2</td>\n",
       "      <td>10.308986</td>\n",
       "      <td>1</td>\n",
       "      <td>4</td>\n",
       "      <td>1</td>\n",
       "      <td>0</td>\n",
       "      <td>794</td>\n",
       "      <td>0.116236</td>\n",
       "    </tr>\n",
       "    <tr>\n",
       "      <th>3</th>\n",
       "      <td>3</td>\n",
       "      <td>0</td>\n",
       "      <td>3.988984</td>\n",
       "      <td>0</td>\n",
       "      <td>0</td>\n",
       "      <td>0</td>\n",
       "      <td>0</td>\n",
       "      <td>-2.057471</td>\n",
       "      <td>1.098612</td>\n",
       "      <td>50</td>\n",
       "      <td>2</td>\n",
       "      <td>3</td>\n",
       "      <td>9.210440</td>\n",
       "      <td>1</td>\n",
       "      <td>3</td>\n",
       "      <td>0</td>\n",
       "      <td>0</td>\n",
       "      <td>1060</td>\n",
       "      <td>0.173542</td>\n",
       "    </tr>\n",
       "    <tr>\n",
       "      <th>4</th>\n",
       "      <td>1</td>\n",
       "      <td>1</td>\n",
       "      <td>3.891820</td>\n",
       "      <td>0</td>\n",
       "      <td>0</td>\n",
       "      <td>0</td>\n",
       "      <td>1</td>\n",
       "      <td>-1.244723</td>\n",
       "      <td>0.693147</td>\n",
       "      <td>60</td>\n",
       "      <td>2</td>\n",
       "      <td>3</td>\n",
       "      <td>10.308986</td>\n",
       "      <td>1</td>\n",
       "      <td>4</td>\n",
       "      <td>1</td>\n",
       "      <td>0</td>\n",
       "      <td>981</td>\n",
       "      <td>0.078669</td>\n",
       "    </tr>\n",
       "  </tbody>\n",
       "</table>\n",
       "</div>"
      ],
      "text/plain": [
       "   education  sex       age  car  car_type  decline_app_cnt  good_work  \\\n",
       "0          3    1  4.143135    1         1                0          0   \n",
       "1          3    0  4.094345    0         0                0          0   \n",
       "2          3    1  3.258097    1         0                2          0   \n",
       "3          3    0  3.988984    0         0                0          0   \n",
       "4          1    1  3.891820    0         0                0          1   \n",
       "\n",
       "   score_bki  bki_request_cnt  region_rating  home_address  work_address  \\\n",
       "0  -2.008753         0.693147             50             1             2   \n",
       "1  -1.532276         1.386294             50             2             3   \n",
       "2  -1.408142         0.693147             80             1             2   \n",
       "3  -2.057471         1.098612             50             2             3   \n",
       "4  -1.244723         0.693147             60             2             3   \n",
       "\n",
       "      income  sna  first_time  foreign_passport  default  num_of_app  \\\n",
       "0   9.798183    4           1                 0        0         794   \n",
       "1   9.852247    4           1                 0        0        1110   \n",
       "2  10.308986    1           4                 1        0         794   \n",
       "3   9.210440    1           3                 0        0        1060   \n",
       "4  10.308986    1           4                 1        0         981   \n",
       "\n",
       "   per_of_def  \n",
       "0    0.116236  \n",
       "1    0.119403  \n",
       "2    0.116236  \n",
       "3    0.173542  \n",
       "4    0.078669  "
      ]
     },
     "execution_count": 120,
     "metadata": {},
     "output_type": "execute_result"
    }
   ],
   "source": [
    "# проверяем тренировочный датасет\n",
    "data_train.head()"
   ]
  },
  {
   "cell_type": "code",
   "execution_count": null,
   "metadata": {
    "execution": {
     "iopub.execute_input": "2021-07-07T11:46:20.202222Z",
     "iopub.status.busy": "2021-07-07T11:46:20.201900Z",
     "iopub.status.idle": "2021-07-07T11:46:20.223703Z",
     "shell.execute_reply": "2021-07-07T11:46:20.222304Z",
     "shell.execute_reply.started": "2021-07-07T11:46:20.202193Z"
    }
   },
   "outputs": [],
   "source": []
  },
  {
   "cell_type": "code",
   "execution_count": 121,
   "metadata": {
    "execution": {
     "iopub.execute_input": "2021-07-07T11:46:20.225239Z",
     "iopub.status.busy": "2021-07-07T11:46:20.224952Z",
     "iopub.status.idle": "2021-07-07T11:46:20.263553Z",
     "shell.execute_reply": "2021-07-07T11:46:20.262796Z",
     "shell.execute_reply.started": "2021-07-07T11:46:20.225211Z"
    }
   },
   "outputs": [],
   "source": [
    "# преобразуем категориальные признаки методом One-Hot Encoding\n",
    "data_train_cat = OneHotEncoder(sparse = False).fit_transform(data_train[cat_cols].values)\n",
    "#Воспользуемся методом One-Hot Encoding для преобразования категориальных переменных\n",
    "#X_cat = OneHotEncoder(sparse = False).fit_transform(df_train[cat_cols].values)"
   ]
  },
  {
   "cell_type": "code",
   "execution_count": 122,
   "metadata": {
    "execution": {
     "iopub.execute_input": "2021-07-07T11:46:20.265768Z",
     "iopub.status.busy": "2021-07-07T11:46:20.265066Z",
     "iopub.status.idle": "2021-07-07T11:46:20.273358Z",
     "shell.execute_reply": "2021-07-07T11:46:20.272211Z",
     "shell.execute_reply.started": "2021-07-07T11:46:20.265711Z"
    }
   },
   "outputs": [
    {
     "data": {
      "text/plain": [
       "array([[0., 0., 0., ..., 0., 0., 0.],\n",
       "       [0., 0., 0., ..., 0., 0., 0.],\n",
       "       [0., 0., 0., ..., 0., 0., 1.],\n",
       "       ...,\n",
       "       [0., 0., 0., ..., 1., 0., 0.],\n",
       "       [0., 0., 0., ..., 0., 1., 0.],\n",
       "       [0., 1., 0., ..., 0., 1., 0.]])"
      ]
     },
     "execution_count": 122,
     "metadata": {},
     "output_type": "execute_result"
    }
   ],
   "source": [
    "# проверяем\n",
    "data_train_cat"
   ]
  },
  {
   "cell_type": "code",
   "execution_count": 123,
   "metadata": {
    "execution": {
     "iopub.execute_input": "2021-07-07T11:46:20.275015Z",
     "iopub.status.busy": "2021-07-07T11:46:20.274683Z",
     "iopub.status.idle": "2021-07-07T11:46:20.303579Z",
     "shell.execute_reply": "2021-07-07T11:46:20.302181Z",
     "shell.execute_reply.started": "2021-07-07T11:46:20.274985Z"
    }
   },
   "outputs": [],
   "source": [
    "# стандартизируем числовые признаки\n",
    "data_train_num = StandardScaler().fit_transform(data_train[num_cols].values)\n",
    "# Стандартизация числовых переменных\n",
    "#X_num = StandardScaler().fit_transform(df_train[num_cols].values)"
   ]
  },
  {
   "cell_type": "code",
   "execution_count": 170,
   "metadata": {
    "execution": {
     "iopub.execute_input": "2021-07-07T11:46:20.305409Z",
     "iopub.status.busy": "2021-07-07T11:46:20.305093Z",
     "iopub.status.idle": "2021-07-07T11:46:20.314070Z",
     "shell.execute_reply": "2021-07-07T11:46:20.312882Z",
     "shell.execute_reply.started": "2021-07-07T11:46:20.305379Z"
    }
   },
   "outputs": [
    {
     "data": {
      "text/plain": [
       "array([[ 1.71113664, -0.34285766, -0.2087987 , ..., -0.78501579,\n",
       "        -0.51650253, -0.88946377],\n",
       "       [ 1.5399884 , -0.34285766,  0.74754461, ..., -0.70752611,\n",
       "        -0.36445207,  0.45490047],\n",
       "       [-1.39343857,  2.14387966,  0.99669566, ..., -0.05288771,\n",
       "        -0.51650253, -0.88946377],\n",
       "       ...,\n",
       "       [-0.66507223, -0.34285766,  0.78696739, ...,  0.5282444 ,\n",
       "        -1.73254563, -0.03860032],\n",
       "       [-0.89146325, -0.34285766,  0.85380611, ..., -1.25140899,\n",
       "         2.34635007, -2.36571184],\n",
       "       [-0.35072683, -0.34285766,  0.28102087, ..., -0.31419734,\n",
       "         2.2349535 ,  0.24218461]])"
      ]
     },
     "execution_count": 170,
     "metadata": {},
     "output_type": "execute_result"
    }
   ],
   "source": [
    "# проверяем\n",
    "data_train_num"
   ]
  },
  {
   "cell_type": "code",
   "execution_count": 169,
   "metadata": {
    "execution": {
     "iopub.execute_input": "2021-07-07T11:46:20.316502Z",
     "iopub.status.busy": "2021-07-07T11:46:20.315966Z",
     "iopub.status.idle": "2021-07-07T11:46:20.344029Z",
     "shell.execute_reply": "2021-07-07T11:46:20.342987Z",
     "shell.execute_reply.started": "2021-07-07T11:46:20.316462Z"
    }
   },
   "outputs": [],
   "source": [
    "# объединяем категориальные, бинарные, числовые признаки в одно признаковое пространство\n",
    "X = np.hstack([data_train_num, data_train[bin_cols].values, data_train_cat])\n",
    "y = data_train['default'].values\n",
    "\n",
    "# Объединим признаки и делим на целевую и переменную.\n",
    "#X = np.hstack([X_num, df_train[bin_cols].values, X_cat])\n",
    "#Y = df_train['default'].values\n",
    "#X_train, X_test, y_train, y_test = train_test_split(X, Y, test_size=0.20, random_state=42)"
   ]
  },
  {
   "cell_type": "code",
   "execution_count": 126,
   "metadata": {
    "execution": {
     "iopub.execute_input": "2021-07-07T11:46:20.346088Z",
     "iopub.status.busy": "2021-07-07T11:46:20.345505Z",
     "iopub.status.idle": "2021-07-07T11:46:20.373892Z",
     "shell.execute_reply": "2021-07-07T11:46:20.372880Z",
     "shell.execute_reply.started": "2021-07-07T11:46:20.346042Z"
    }
   },
   "outputs": [],
   "source": [
    "# Разобьем данные для обучения и тестирования\n",
    "X_train, X_test, y_train, y_test = train_test_split(X, y, test_size=0.20, random_state=42)"
   ]
  },
  {
   "cell_type": "code",
   "execution_count": 180,
   "metadata": {
    "execution": {
     "iopub.execute_input": "2021-07-07T11:46:20.375895Z",
     "iopub.status.busy": "2021-07-07T11:46:20.375356Z",
     "iopub.status.idle": "2021-07-07T11:46:21.132692Z",
     "shell.execute_reply": "2021-07-07T11:46:21.131764Z",
     "shell.execute_reply.started": "2021-07-07T11:46:20.375838Z"
    }
   },
   "outputs": [],
   "source": [
    "# строим модель\n",
    "model = LogisticRegression(max_iter = 1000)\n",
    "model.fit(X_train, y_train)\n",
    "y_pred = model.predict(X_test)"
   ]
  },
  {
   "cell_type": "markdown",
   "metadata": {},
   "source": [
    "# **Оценка качества модели**"
   ]
  },
  {
   "cell_type": "code",
   "execution_count": 181,
   "metadata": {},
   "outputs": [
    {
     "data": {
      "text/plain": [
       "<AxesSubplot:>"
      ]
     },
     "execution_count": 181,
     "metadata": {},
     "output_type": "execute_result"
    },
    {
     "data": {
      "image/png": "[encoded data removed]",
      "text/plain": [
       "<Figure size 432x288 with 2 Axes>"
      ]
     },
     "metadata": {
      "needs_background": "light"
     },
     "output_type": "display_data"
    }
   ],
   "source": [
    "# Визуализация confusion matrix:\n",
    "sns.set_context(context='paper', font_scale=2, rc=None)\n",
    "group_names = ['True Neg', 'False Pos', 'False Neg', 'True Pos']\n",
    "group_counts = ['{0:0.0f}'.format(value) for value in\n",
    "                confusion_matrix(y_test, y_pred).flatten()]\n",
    "labels = [f'{v1}\\n{v2}' for v1, v2 in\n",
    "          zip(group_names, group_counts)]\n",
    "labels = np.asarray(labels).reshape(2, 2)\n",
    "sns.heatmap(confusion_matrix(y_test, y_pred), annot=labels, fmt='', cmap='Blues')"
   ]
  },
  {
   "cell_type": "markdown",
   "metadata": {},
   "source": [
    "Полученная модель плохо предсказывает заемщиков, которые в будущем могут не выплачить кредиты."
   ]
  },
  {
   "cell_type": "markdown",
   "metadata": {},
   "source": [
    "**ROC-анализ**"
   ]
  },
  {
   "cell_type": "code",
   "execution_count": 160,
   "metadata": {
    "execution": {
     "iopub.execute_input": "2021-07-07T11:46:21.134721Z",
     "iopub.status.busy": "2021-07-07T11:46:21.134344Z",
     "iopub.status.idle": "2021-07-07T11:46:21.179764Z",
     "shell.execute_reply": "2021-07-07T11:46:21.178533Z",
     "shell.execute_reply.started": "2021-07-07T11:46:21.134683Z"
    }
   },
   "outputs": [],
   "source": [
    "# считаем метрики обучающей (X_train, y_train) выборки\n",
    "y_train_probs = model.predict_proba(X_train)\n",
    "y_train_probs = y_train_probs[:,1]\n",
    "fpr_train, tpr_train, threshold_train = roc_curve(y_train, y_train_probs)\n",
    "roc_auc_train = roc_auc_score(y_train, y_train_probs)"
   ]
  },
  {
   "cell_type": "code",
   "execution_count": 129,
   "metadata": {
    "execution": {
     "iopub.execute_input": "2021-07-07T11:46:21.181889Z",
     "iopub.status.busy": "2021-07-07T11:46:21.181360Z",
     "iopub.status.idle": "2021-07-07T11:46:21.201729Z",
     "shell.execute_reply": "2021-07-07T11:46:21.200349Z",
     "shell.execute_reply.started": "2021-07-07T11:46:21.181825Z"
    }
   },
   "outputs": [],
   "source": [
    "# считаем метрики тестовой (X_test, y_test) выборки\n",
    "y_test_probs = model.predict_proba(X_test)\n",
    "y_test_probs = y_test_probs[:,1]\n",
    "fpr_test, tpr_test, threshold_test = roc_curve(y_test, y_test_probs)\n",
    "roc_auc_test = roc_auc_score(y_test, y_test_probs)"
   ]
  },
  {
   "cell_type": "code",
   "execution_count": 130,
   "metadata": {
    "execution": {
     "iopub.execute_input": "2021-07-07T11:46:21.206354Z",
     "iopub.status.busy": "2021-07-07T11:46:21.205806Z",
     "iopub.status.idle": "2021-07-07T11:46:21.402922Z",
     "shell.execute_reply": "2021-07-07T11:46:21.401328Z",
     "shell.execute_reply.started": "2021-07-07T11:46:21.206301Z"
    }
   },
   "outputs": [
    {
     "data": {
      "image/png": "[encoded data removed]",
      "text/plain": [
       "<Figure size 432x288 with 1 Axes>"
      ]
     },
     "metadata": {
      "needs_background": "light"
     },
     "output_type": "display_data"
    }
   ],
   "source": [
    "# строим графики метрик\n",
    "plt.figure()\n",
    "plt.plot([0, 1], label='Baseline', linestyle = '--')\n",
    "plt.plot(fpr_train, tpr_train, label = 'Train')\n",
    "plt.plot(fpr_test, tpr_test, label = 'Test')\n",
    "plt.title('Logistic Regression ROC AUC Train = {a} \\n Logistic Regression ROC AUC Test = {b}'\n",
    "          .format(a = roc_auc_train.round(3), b = roc_auc_test.round(3)))\n",
    "plt.ylabel('True Positive Rate')\n",
    "plt.xlabel('False Positive Rate')\n",
    "plt.legend(loc = 'lower right')\n",
    "plt.show()"
   ]
  },
  {
   "cell_type": "markdown",
   "metadata": {},
   "source": [
    "Значения различаются не сильно, переобучения нет.\n",
    "Посмотрим, можно ли найти более оптимальные параметры для модели."
   ]
  },
  {
   "cell_type": "markdown",
   "metadata": {},
   "source": [
    "# **Поиск оптимальных значений гиперпараметров**"
   ]
  },
  {
   "cell_type": "code",
   "execution_count": 131,
   "metadata": {
    "execution": {
     "iopub.execute_input": "2021-07-07T11:46:21.405351Z",
     "iopub.status.busy": "2021-07-07T11:46:21.404847Z",
     "iopub.status.idle": "2021-07-07T11:46:21.411080Z",
     "shell.execute_reply": "2021-07-07T11:46:21.410044Z",
     "shell.execute_reply.started": "2021-07-07T11:46:21.405298Z"
    }
   },
   "outputs": [],
   "source": [
    "# импорт библиотеки\n",
    "from sklearn.model_selection import GridSearchCV"
   ]
  },
  {
   "cell_type": "code",
   "execution_count": 132,
   "metadata": {
    "execution": {
     "iopub.execute_input": "2021-07-07T11:46:21.413291Z",
     "iopub.status.busy": "2021-07-07T11:46:21.412783Z"
    }
   },
   "outputs": [
    {
     "name": "stderr",
     "output_type": "stream",
     "text": [
      "C:\\Users\\Dimon\\anaconda3\\lib\\site-packages\\sklearn\\model_selection\\_search.py:918: UserWarning: One or more of the test scores are non-finite: [       nan        nan        nan        nan 0.34184557        nan\n",
      " 0.34184557        nan 0.05733592 0.05733592        nan 0.05733592\n",
      " 0.05733592 0.05733592 0.05733592        nan 0.05733592 0.05733592\n",
      " 0.34175679 0.34176811 0.34175679 0.34176811 0.34174636 0.34175679\n",
      " 0.34176811 0.34175679 0.34175679 0.34174636 0.05756818 0.05756818\n",
      " 0.05756818 0.05732859 0.05756818 0.05756818 0.05756818 0.05732859\n",
      " 0.34177969 0.34175679 0.34177969 0.34179114 0.34177969 0.34175679\n",
      " 0.34177969 0.34179114]\n",
      "  warnings.warn(\n"
     ]
    },
    {
     "name": "stdout",
     "output_type": "stream",
     "text": [
      "C 1.0 \n",
      "\n",
      "class_weight balanced \n",
      "\n",
      "dual False \n",
      "\n",
      "fit_intercept True \n",
      "\n",
      "intercept_scaling 1 \n",
      "\n",
      "l1_ratio None \n",
      "\n",
      "max_iter 100 \n",
      "\n",
      "multi_class auto \n",
      "\n",
      "n_jobs None \n",
      "\n",
      "penalty l1 \n",
      "\n",
      "random_state None \n",
      "\n",
      "solver liblinear \n",
      "\n",
      "tol 0.0001 \n",
      "\n",
      "verbose 0 \n",
      "\n",
      "warm_start False \n",
      "\n"
     ]
    }
   ],
   "source": [
    "# ищем оптимальные значения гиперпараметров\n",
    "model = LogisticRegression()\n",
    "param_grid = [\n",
    "    {'penalty': ['l1'], \n",
    "     'solver': ['liblinear', 'lbfgs'], \n",
    "     'class_weight':['none', 'balanced'], \n",
    "     'multi_class': ['auto','ovr']}, \n",
    "    {'penalty': ['l2'], \n",
    "     'solver': ['newton-cg', 'lbfgs', 'liblinear', 'sag', 'saga'], \n",
    "     'class_weight':['none', 'balanced'], \n",
    "     'multi_class': ['auto','ovr']}, \n",
    "    {'penalty': ['none'], \n",
    "     'solver': ['newton-cg', 'lbfgs', 'sag', 'saga'], \n",
    "     'class_weight':['none', 'balanced'], \n",
    "     'multi_class': ['auto','ovr']} \n",
    "]\n",
    "gridsearch = GridSearchCV(model, param_grid, scoring='f1', n_jobs=-1)\n",
    "gridsearch.fit(X_train, y_train)\n",
    "model = gridsearch.best_estimator_\n",
    "## печатаем параметры\n",
    "best_parameters = model.get_params()\n",
    "for param_name in best_parameters:\n",
    "        print(param_name, best_parameters[param_name], '\\n')"
   ]
  },
  {
   "cell_type": "markdown",
   "metadata": {},
   "source": [
    "Строим модель с подобранными гиперпарметрами"
   ]
  },
  {
   "cell_type": "code",
   "execution_count": 133,
   "metadata": {},
   "outputs": [],
   "source": [
    "# Разобьем данные для обучения и тестирования по новой\n",
    "X_train, X_test, y_train, y_test = train_test_split(X, y, test_size=0.20, random_state=42)"
   ]
  },
  {
   "cell_type": "code",
   "execution_count": 177,
   "metadata": {},
   "outputs": [],
   "source": [
    "# строим модель\n",
    "new_model = LogisticRegression(random_state = None, \n",
    "                               C = 1, \n",
    "                               class_weight = 'balanced', \n",
    "                               dual = False, \n",
    "                               fit_intercept = True, \n",
    "                               intercept_scaling = 1, \n",
    "                               l1_ratio = None, \n",
    "                               max_iter = 100, \n",
    "                               multi_class = 'auto', \n",
    "                               n_jobs = None, \n",
    "                               penalty = 'l1', \n",
    "                               solver = 'liblinear', \n",
    "                               tol = 0.0001,\n",
    "                               verbose = 0, \n",
    "                               warm_start = False)\n",
    "new_model.fit(X_train, y_train)\n",
    "\n",
    "y_pred = new_model.predict(X_test)"
   ]
  },
  {
   "cell_type": "code",
   "execution_count": 178,
   "metadata": {},
   "outputs": [
    {
     "data": {
      "text/plain": [
       "<AxesSubplot:>"
      ]
     },
     "execution_count": 178,
     "metadata": {},
     "output_type": "execute_result"
    },
    {
     "data": {
      "image/png": "[encoded data removed]",
      "text/plain": [
       "<Figure size 432x288 with 2 Axes>"
      ]
     },
     "metadata": {
      "needs_background": "light"
     },
     "output_type": "display_data"
    }
   ],
   "source": [
    "# Визуализация confusion matrix:\n",
    "sns.set_context(context='paper', font_scale=2, rc=None)\n",
    "group_names = ['True Neg', 'False Pos', 'False Neg', 'True Pos']\n",
    "group_counts = ['{0:0.0f}'.format(value) for value in\n",
    "                confusion_matrix(y_test, y_pred).flatten()]\n",
    "labels = [f'{v1}\\n{v2}' for v1, v2 in\n",
    "          zip(group_names, group_counts)]\n",
    "labels = np.asarray(labels).reshape(2, 2)\n",
    "sns.heatmap(confusion_matrix(y_test, y_pred), annot=labels, fmt='', cmap='Blues')"
   ]
  },
  {
   "cell_type": "markdown",
   "metadata": {},
   "source": [
    "Эта модель лучше предсказывает неблагонадежных клиентов."
   ]
  },
  {
   "cell_type": "markdown",
   "metadata": {},
   "source": [
    "**ROC-анализ**"
   ]
  },
  {
   "cell_type": "code",
   "execution_count": 135,
   "metadata": {},
   "outputs": [],
   "source": [
    "# считаем метрики обучающей (X_train, y_train) выборки\n",
    "y_train_probs = new_model.predict_proba(X_train)\n",
    "y_train_probs = y_train_probs[:,1]\n",
    "fpr_train, tpr_train, threshold_train = roc_curve(y_train, y_train_probs)\n",
    "roc_auc_train = roc_auc_score(y_train, y_train_probs)"
   ]
  },
  {
   "cell_type": "code",
   "execution_count": 136,
   "metadata": {},
   "outputs": [],
   "source": [
    "# считаем метрики тестовой (X_test, y_test) выборки\n",
    "y_test_probs = new_model.predict_proba(X_test)\n",
    "y_test_probs = y_test_probs[:,1]\n",
    "fpr_test, tpr_test, threshold_test = roc_curve(y_test, y_test_probs)\n",
    "roc_auc_test = roc_auc_score(y_test, y_test_probs)\n"
   ]
  },
  {
   "cell_type": "code",
   "execution_count": 137,
   "metadata": {},
   "outputs": [
    {
     "data": {
      "image/png": "[encoded data removed]",
      "text/plain": [
       "<Figure size 432x288 with 1 Axes>"
      ]
     },
     "metadata": {
      "needs_background": "light"
     },
     "output_type": "display_data"
    }
   ],
   "source": [
    "# строи графики метрик\n",
    "plt.figure()\n",
    "plt.plot([0, 1], label='Baseline', linestyle = '--')\n",
    "plt.plot(fpr_train, tpr_train, label = 'Train')\n",
    "plt.plot(fpr_test, tpr_test, label = 'Test')\n",
    "plt.title('Logistic Regression ROC AUC Train = {a} \\n Logistic Regression ROC AUC Test = {b}'\n",
    "          .format(a = roc_auc_train.round(3), b = roc_auc_test.round(3)))\n",
    "plt.ylabel('True Positive Rate')\n",
    "plt.xlabel('False Positive Rate')\n",
    "plt.legend(loc = 'lower right')\n",
    "plt.show()"
   ]
  },
  {
   "cell_type": "markdown",
   "metadata": {},
   "source": [
    "**Вывод: расхождение метрики ROC AUC для обучающей и тестовоый выборок не изменилось.\n",
    "Будем использовать модель с подобранными гиперпараметрами.\n",
    "После обработки датасета и добавления новых признаков была сгенерирована базовая модель логистической регрессии, которая показала ROC AUC > 0.74\n",
    "Модель была донастроена с подбором параметров через GridSearchCV.\n",
    "Для дальнейшего усовершенствования модели может быть необходимо создать новые признаки или придумать какие-либо решения со значениями, которые вызывают сомнение в рамках IQR.**"
   ]
  },
  {
   "cell_type": "markdown",
   "metadata": {},
   "source": [
    "# **Определяем значение дефолта клиентов**"
   ]
  },
  {
   "cell_type": "code",
   "execution_count": 138,
   "metadata": {},
   "outputs": [],
   "source": [
    "# выделяем тестовый датасет из датасета data\n",
    "data_test = data[data['train'] == 0]\n",
    "data_test = data_test.drop(['client_id', 'app_date', 'train'], axis=1)"
   ]
  },
  {
   "cell_type": "code",
   "execution_count": 139,
   "metadata": {},
   "outputs": [],
   "source": [
    "# преобразуем категориальные признаки методом One-Hot Encoding\n",
    "data_test_cat = OneHotEncoder(sparse = False).fit_transform(data_test[cat_cols].values)"
   ]
  },
  {
   "cell_type": "code",
   "execution_count": 140,
   "metadata": {},
   "outputs": [
    {
     "data": {
      "text/plain": [
       "array([[0., 1., 0., ..., 0., 0., 1.],\n",
       "       [0., 0., 0., ..., 0., 1., 0.],\n",
       "       [0., 0., 0., ..., 0., 1., 0.],\n",
       "       ...,\n",
       "       [0., 1., 0., ..., 1., 0., 0.],\n",
       "       [0., 0., 0., ..., 0., 0., 0.],\n",
       "       [0., 0., 0., ..., 1., 0., 0.]])"
      ]
     },
     "execution_count": 140,
     "metadata": {},
     "output_type": "execute_result"
    }
   ],
   "source": [
    "# проверяем\n",
    "data_test_cat"
   ]
  },
  {
   "cell_type": "code",
   "execution_count": 141,
   "metadata": {},
   "outputs": [],
   "source": [
    "# стандартизируем числовые признаки\n",
    "data_test_num = StandardScaler().fit_transform(data_test[num_cols].values)"
   ]
  },
  {
   "cell_type": "code",
   "execution_count": 142,
   "metadata": {},
   "outputs": [
    {
     "data": {
      "text/plain": [
       "array([[-0.88333898, -0.33995109, -0.73288746, ...,  0.68282058,\n",
       "         0.4450004 , -0.99730532],\n",
       "       [ 0.12606863,  6.00146439,  0.79551047, ..., -2.63253397,\n",
       "        -0.56077739,  0.35300684],\n",
       "       [ 0.97850869, -0.33995109,  0.42413578, ..., -0.05272498,\n",
       "         0.31650603, -1.33807811],\n",
       "       ...,\n",
       "       [-0.65688874,  2.1966151 ,  1.92005304, ...,  0.9453502 ,\n",
       "         0.26864856, -1.19324967],\n",
       "       [-1.12541848,  0.92833201,  1.31888606, ..., -0.05272498,\n",
       "         3.40089756, -2.78210279],\n",
       "       [ 0.0372345 , -0.33995109,  0.79042787, ..., -1.05077617,\n",
       "         0.70270711,  1.4818167 ]])"
      ]
     },
     "execution_count": 142,
     "metadata": {},
     "output_type": "execute_result"
    }
   ],
   "source": [
    "# проверяем\n",
    "data_test_num"
   ]
  },
  {
   "cell_type": "code",
   "execution_count": 143,
   "metadata": {},
   "outputs": [],
   "source": [
    "# объединяем категориальные, бинарные, числовые признаки в одно признаковое пространство\n",
    "X = np.hstack([data_test_num, data_test[bin_cols].values, data_test_cat])"
   ]
  },
  {
   "cell_type": "code",
   "execution_count": 144,
   "metadata": {},
   "outputs": [],
   "source": [
    "# делаем расчет\n",
    "y = new_model.predict_proba(X)\n",
    "y = y[:,1]"
   ]
  },
  {
   "cell_type": "code",
   "execution_count": 145,
   "metadata": {},
   "outputs": [],
   "source": [
    "# создаем новый датасет\n",
    "submit = pd.DataFrame(test.client_id)"
   ]
  },
  {
   "cell_type": "code",
   "execution_count": 146,
   "metadata": {},
   "outputs": [],
   "source": [
    "# включаем в датасет расчитанные значения признака default\n",
    "submit['default'] = y\n"
   ]
  },
  {
   "cell_type": "code",
   "execution_count": 147,
   "metadata": {},
   "outputs": [],
   "source": [
    "# выгружаем получившийся датасет в файл\n",
    "submit.to_csv('submission.csv', index=False)"
   ]
  },
  {
   "cell_type": "code",
   "execution_count": 148,
   "metadata": {},
   "outputs": [
    {
     "data": {
      "text/html": [
       "<div>\n",
       "<style scoped>\n",
       "    .dataframe tbody tr th:only-of-type {\n",
       "        vertical-align: middle;\n",
       "    }\n",
       "\n",
       "    .dataframe tbody tr th {\n",
       "        vertical-align: top;\n",
       "    }\n",
       "\n",
       "    .dataframe thead th {\n",
       "        text-align: right;\n",
       "    }\n",
       "</style>\n",
       "<table border=\"1\" class=\"dataframe\">\n",
       "  <thead>\n",
       "    <tr style=\"text-align: right;\">\n",
       "      <th></th>\n",
       "      <th>client_id</th>\n",
       "      <th>default</th>\n",
       "    </tr>\n",
       "  </thead>\n",
       "  <tbody>\n",
       "    <tr>\n",
       "      <th>6173</th>\n",
       "      <td>54575</td>\n",
       "      <td>0.383172</td>\n",
       "    </tr>\n",
       "    <tr>\n",
       "      <th>1844</th>\n",
       "      <td>38801</td>\n",
       "      <td>0.620837</td>\n",
       "    </tr>\n",
       "    <tr>\n",
       "      <th>8565</th>\n",
       "      <td>75170</td>\n",
       "      <td>0.818567</td>\n",
       "    </tr>\n",
       "    <tr>\n",
       "      <th>29090</th>\n",
       "      <td>53894</td>\n",
       "      <td>0.433468</td>\n",
       "    </tr>\n",
       "    <tr>\n",
       "      <th>33431</th>\n",
       "      <td>49405</td>\n",
       "      <td>0.616987</td>\n",
       "    </tr>\n",
       "    <tr>\n",
       "      <th>29244</th>\n",
       "      <td>22655</td>\n",
       "      <td>0.448139</td>\n",
       "    </tr>\n",
       "    <tr>\n",
       "      <th>29895</th>\n",
       "      <td>80604</td>\n",
       "      <td>0.121206</td>\n",
       "    </tr>\n",
       "    <tr>\n",
       "      <th>26321</th>\n",
       "      <td>13964</td>\n",
       "      <td>0.817868</td>\n",
       "    </tr>\n",
       "    <tr>\n",
       "      <th>27029</th>\n",
       "      <td>3625</td>\n",
       "      <td>0.335293</td>\n",
       "    </tr>\n",
       "    <tr>\n",
       "      <th>22462</th>\n",
       "      <td>16096</td>\n",
       "      <td>0.365108</td>\n",
       "    </tr>\n",
       "  </tbody>\n",
       "</table>\n",
       "</div>"
      ],
      "text/plain": [
       "       client_id   default\n",
       "6173       54575  0.383172\n",
       "1844       38801  0.620837\n",
       "8565       75170  0.818567\n",
       "29090      53894  0.433468\n",
       "33431      49405  0.616987\n",
       "29244      22655  0.448139\n",
       "29895      80604  0.121206\n",
       "26321      13964  0.817868\n",
       "27029       3625  0.335293\n",
       "22462      16096  0.365108"
      ]
     },
     "execution_count": 148,
     "metadata": {},
     "output_type": "execute_result"
    }
   ],
   "source": [
    "submit.sample(10)"
   ]
  },
  {
   "cell_type": "code",
   "execution_count": null,
   "metadata": {},
   "outputs": [],
   "source": []
  }
 ],
 "metadata": {
  "kernelspec": {
   "display_name": "Python 3",
   "language": "python",
   "name": "python3"
  },
  "language_info": {
   "codemirror_mode": {
    "name": "ipython",
    "version": 3
   },
   "file_extension": ".py",
   "mimetype": "text/x-python",
   "name": "python",
   "nbconvert_exporter": "python",
   "pygments_lexer": "ipython3",
   "version": "3.8.8"
  }
 },
 "nbformat": 4,
 "nbformat_minor": 4
}
